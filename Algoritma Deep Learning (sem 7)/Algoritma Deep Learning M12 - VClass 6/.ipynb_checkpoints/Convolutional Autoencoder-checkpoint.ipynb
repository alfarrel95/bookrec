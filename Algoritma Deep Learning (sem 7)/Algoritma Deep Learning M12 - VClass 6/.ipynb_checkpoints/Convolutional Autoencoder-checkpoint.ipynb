{
 "cells": [
  {
   "cell_type": "markdown",
   "metadata": {
    "colab_type": "text",
    "id": "OLqhpSjdHuwb"
   },
   "source": [
    "#1. Persiapan"
   ]
  },
  {
   "cell_type": "code",
   "execution_count": 0,
   "metadata": {
    "colab": {
     "base_uri": "https://localhost:8080/",
     "height": 85
    },
    "colab_type": "code",
    "executionInfo": {
     "elapsed": 1095,
     "status": "ok",
     "timestamp": 1566154880043,
     "user": {
      "displayName": "Dennis Aprilla Christie",
      "photoUrl": "https://lh3.googleusercontent.com/-W_6VdV2VWBM/AAAAAAAAAAI/AAAAAAAADr0/Jovfu3kCHdA/s64/photo.jpg",
      "userId": "09637515618974467169"
     },
     "user_tz": -420
    },
    "id": "gyeQ-AMnMCj0",
    "outputId": "a8f17375-956d-464c-88bc-4bf14cef74f7"
   },
   "outputs": [
    {
     "name": "stdout",
     "output_type": "stream",
     "text": [
      "Extracting /tmp/data/train-images-idx3-ubyte.gz\n",
      "Extracting /tmp/data/train-labels-idx1-ubyte.gz\n",
      "Extracting /tmp/data/t10k-images-idx3-ubyte.gz\n",
      "Extracting /tmp/data/t10k-labels-idx1-ubyte.gz\n"
     ]
    }
   ],
   "source": [
    "import tensorflow as tf\n",
    "import numpy as np\n",
    "import matplotlib.pyplot as plt\n",
    "%matplotlib inline\n",
    "\n",
    "# Import MINST data\n",
    "from tensorflow.examples.tutorials.mnist import input_data\n",
    "mnist = input_data.read_data_sets(\"/tmp/data/\", one_hot=True)"
   ]
  },
  {
   "cell_type": "markdown",
   "metadata": {
    "colab_type": "text",
    "id": "qCH-zsMCHz0Q"
   },
   "source": [
    "#2. Menyiapkan Parameter"
   ]
  },
  {
   "cell_type": "code",
   "execution_count": 0,
   "metadata": {
    "colab": {},
    "colab_type": "code",
    "id": "Rf78SvuiMsMo"
   },
   "outputs": [],
   "source": [
    "# Training Parameters\n",
    "learning_rate = 0.001\n",
    "batch_size = 256\n",
    "\n",
    "epochs = 10\n",
    "display_step = 1"
   ]
  },
  {
   "cell_type": "markdown",
   "metadata": {
    "colab_type": "text",
    "id": "L3xXdZDsH2JG"
   },
   "source": [
    "#3. Membangun Convolutional Autoencoder"
   ]
  },
  {
   "cell_type": "markdown",
   "metadata": {
    "colab_type": "text",
    "id": "nmeZkxxEH8_y"
   },
   "source": [
    "##3.1. Menyiapkan Input"
   ]
  },
  {
   "cell_type": "code",
   "execution_count": 0,
   "metadata": {
    "colab": {
     "base_uri": "https://localhost:8080/",
     "height": 34
    },
    "colab_type": "code",
    "executionInfo": {
     "elapsed": 952,
     "status": "ok",
     "timestamp": 1566154893737,
     "user": {
      "displayName": "Dennis Aprilla Christie",
      "photoUrl": "https://lh3.googleusercontent.com/-W_6VdV2VWBM/AAAAAAAAAAI/AAAAAAAADr0/Jovfu3kCHdA/s64/photo.jpg",
      "userId": "09637515618974467169"
     },
     "user_tz": -420
    },
    "id": "fmFePdIqNhMr",
    "outputId": "a57fb0f3-9871-484a-892b-55a8b2462f73"
   },
   "outputs": [
    {
     "data": {
      "text/plain": [
       "<tf.Tensor 'Placeholder_2:0' shape=(?, 28, 28, 1) dtype=float32>"
      ]
     },
     "execution_count": 33,
     "metadata": {
      "tags": []
     },
     "output_type": "execute_result"
    }
   ],
   "source": [
    "?# tf Graph input\n",
    "X = tf.placeholder(tf.float32, [None, 28,28,1])\n",
    "X"
   ]
  },
  {
   "cell_type": "markdown",
   "metadata": {
    "colab_type": "text",
    "id": "ek8ZK6sSICYE"
   },
   "source": [
    "##3.2. Menyusun Arsitektur CAE"
   ]
  },
  {
   "cell_type": "code",
   "execution_count": 0,
   "metadata": {
    "colab": {},
    "colab_type": "code",
    "id": "r8JRNWCRgBLJ"
   },
   "outputs": [],
   "source": [
    "### Encoder\n",
    "conv1 = tf.layers.conv2d(inputs=X, filters=16, kernel_size=(3,3), padding='same', activation=tf.nn.relu)\n",
    "# Now 28x28x16\n",
    "\n",
    "maxpool1 = tf.layers.max_pooling2d(conv1, pool_size=(2,2), strides=(2,2), padding='same')\n",
    "# Now 14x14x16\n",
    "\n",
    "conv2 = tf.layers.conv2d(inputs=maxpool1, filters=8, kernel_size=(3,3), padding='same', activation=tf.nn.relu)\n",
    "# Now 14x14x8\n",
    "\n",
    "maxpool2 = tf.layers.max_pooling2d(conv2, pool_size=(2,2), strides=(2,2), padding='same')                      \n",
    "# Now 7x7x8\n",
    "\n",
    "conv3 = tf.layers.conv2d(inputs=maxpool2, filters=8, kernel_size=(3,3), padding='same', activation=tf.nn.relu) \n",
    "# Now 7x7x8\n",
    "\n",
    "maxpool2 = tf.layers.max_pooling2d(conv2, pool_size=(2,2), strides=(2,2), padding='same')                      \n",
    "# Now 4x4x8"
   ]
  },
  {
   "cell_type": "code",
   "execution_count": 0,
   "metadata": {
    "colab": {},
    "colab_type": "code",
    "id": "bLxGamw0sRek"
   },
   "outputs": [],
   "source": [
    "### Bottle Neck\n",
    "conv4 = tf.layers.conv2d(inputs=maxpool2, filters=8, kernel_size=(3,3), padding='same', activation=tf.nn.relu)\n",
    "# Now 4x4x8"
   ]
  },
  {
   "cell_type": "code",
   "execution_count": 0,
   "metadata": {
    "colab": {},
    "colab_type": "code",
    "id": "yJiy1SM2iPhq"
   },
   "outputs": [],
   "source": [
    "### Decoder\n",
    "upsample1 = tf.image.resize_images(conv4, size=(7,7), method=tf.image.ResizeMethod.NEAREST_NEIGHBOR)\n",
    "# Now 7x7x8\n",
    "\n",
    "conv5   = tf.layers.conv2d(inputs=upsample1, filters=8, kernel_size=(3,3), padding='same', activation=tf.nn.relu)\n",
    "# Now 7x7x8\n",
    "concat1 = tf.concat([conv3, conv5], axis=3)                                                                         \n",
    "# Now 7x7x64\n",
    "\n",
    "upsample2 = tf.image.resize_images(conv3, size=(14,14), method=tf.image.ResizeMethod.NEAREST_NEIGHBOR)              \n",
    "# Now 14x14x64\n",
    "\n",
    "conv6   = tf.layers.conv2d(inputs=upsample2, filters=8, kernel_size=(3,3), padding='same', activation=tf.nn.relu)\n",
    "# Now 14x14x16\n",
    "concat1 = tf.concat([conv2, conv6], axis=3)                                                                         \n",
    "# Now 14x14x32\n",
    "\n",
    "upsample2 = tf.image.resize_images(conv4, size=(28,28), method=tf.image.ResizeMethod.NEAREST_NEIGHBOR)              \n",
    "# Now 28x28x32\n",
    "\n",
    "conv7   = tf.layers.conv2d(inputs=upsample2, filters=16, kernel_size=(3,3), padding='same', activation=tf.nn.relu)\n",
    "# Now 28x28x8\n",
    "concat2 = tf.concat([conv1, conv7], axis=3)                                                                         \n",
    "# Now 28x28x16"
   ]
  },
  {
   "cell_type": "markdown",
   "metadata": {
    "colab_type": "text",
    "id": "vvMPYRi2IJn2"
   },
   "source": [
    "##3.3. Rekonsruksi"
   ]
  },
  {
   "cell_type": "code",
   "execution_count": 0,
   "metadata": {
    "colab": {},
    "colab_type": "code",
    "id": "B5cHjwy4skQU"
   },
   "outputs": [],
   "source": [
    "reconstructed = tf.layers.conv2d(inputs=concat2, filters=1, kernel_size=(3,3), padding='same', activation=None)\n",
    "reconstructed_normalized = tf.nn.sigmoid(reconstructed)"
   ]
  },
  {
   "cell_type": "markdown",
   "metadata": {
    "colab_type": "text",
    "id": "X4WzzJJFIORU"
   },
   "source": [
    "##3.4. Loss dan Optimisasi"
   ]
  },
  {
   "cell_type": "code",
   "execution_count": 0,
   "metadata": {
    "colab": {},
    "colab_type": "code",
    "id": "ael3wcRji4yu"
   },
   "outputs": [],
   "source": [
    "cost = tf.reduce_mean(tf.nn.sigmoid_cross_entropy_with_logits(labels=X, logits=reconstructed))\n",
    "optimizer = tf.train.AdamOptimizer(learning_rate=learning_rate).minimize(cost)"
   ]
  },
  {
   "cell_type": "markdown",
   "metadata": {
    "colab_type": "text",
    "id": "b7V0bXyoIQl9"
   },
   "source": [
    "#4. Training"
   ]
  },
  {
   "cell_type": "code",
   "execution_count": 0,
   "metadata": {
    "colab": {
     "base_uri": "https://localhost:8080/",
     "height": 204
    },
    "colab_type": "code",
    "executionInfo": {
     "elapsed": 20658,
     "status": "ok",
     "timestamp": 1566153889941,
     "user": {
      "displayName": "Dennis Aprilla Christie",
      "photoUrl": "https://lh3.googleusercontent.com/-W_6VdV2VWBM/AAAAAAAAAAI/AAAAAAAADr0/Jovfu3kCHdA/s64/photo.jpg",
      "userId": "09637515618974467169"
     },
     "user_tz": -420
    },
    "id": "Uy_Xbm0pkDEg",
    "outputId": "28f1b965-3824-47ba-e933-9b9beca3e683"
   },
   "outputs": [
    {
     "name": "stdout",
     "output_type": "stream",
     "text": [
      "epoch = 0/9... cost = 0.0725\n",
      "epoch = 1/9... cost = 0.0652\n",
      "epoch = 2/9... cost = 0.0656\n",
      "epoch = 3/9... cost = 0.0626\n",
      "epoch = 4/9... cost = 0.0634\n",
      "epoch = 5/9... cost = 0.0646\n",
      "epoch = 6/9... cost = 0.0619\n",
      "epoch = 7/9... cost = 0.0624\n",
      "epoch = 8/9... cost = 0.0608\n",
      "epoch = 9/9... cost = 0.0627\n",
      "Done!\n"
     ]
    }
   ],
   "source": [
    "session = tf.Session()\n",
    "session.run(tf.global_variables_initializer())\n",
    "\n",
    "total_batch = int(mnist.train.num_examples/batch_size)\n",
    "\n",
    "for epoch in range(epochs):\n",
    "\n",
    "  for i in range(total_batch):\n",
    "\n",
    "    batch_x, _ = mnist.train.next_batch(batch_size)\n",
    "    batch_x_reshaped = batch_x.reshape((-1, 28, 28, 1))\n",
    "\n",
    "    _, c = session.run([optimizer, cost], feed_dict={X:batch_x_reshaped})\n",
    "\n",
    "  if epoch % display_step == 0:\n",
    "    print(f'epoch = {epoch}/{epochs-1}... cost = {c:.4f}')\n",
    "\n",
    "print('Done!')"
   ]
  },
  {
   "cell_type": "markdown",
   "metadata": {
    "colab_type": "text",
    "id": "T73NPXRpITF1"
   },
   "source": [
    "#5. Testing"
   ]
  },
  {
   "cell_type": "markdown",
   "metadata": {
    "colab_type": "text",
    "id": "aEFzYUv432h3"
   },
   "source": [
    "##5.1. Testing 1"
   ]
  },
  {
   "cell_type": "code",
   "execution_count": 0,
   "metadata": {
    "colab": {},
    "colab_type": "code",
    "id": "5q3XKBDvw7ku"
   },
   "outputs": [],
   "source": [
    "# Applying encode and decode over test set\n",
    "example_to_show = 10\n",
    "\n",
    "images = mnist.test.images[:example_to_show]\n",
    "encode_decode1 = session.run(reconstructed_normalized, feed_dict={X: images.reshape((-1, 28, 28, 1))})"
   ]
  },
  {
   "cell_type": "code",
   "execution_count": 0,
   "metadata": {
    "colab": {
     "base_uri": "https://localhost:8080/",
     "height": 211
    },
    "colab_type": "code",
    "executionInfo": {
     "elapsed": 2303,
     "status": "ok",
     "timestamp": 1566154377681,
     "user": {
      "displayName": "Dennis Aprilla Christie",
      "photoUrl": "https://lh3.googleusercontent.com/-W_6VdV2VWBM/AAAAAAAAAAI/AAAAAAAADr0/Jovfu3kCHdA/s64/photo.jpg",
      "userId": "09637515618974467169"
     },
     "user_tz": -420
    },
    "id": "jbDIFPOC3tHM",
    "outputId": "3aec181b-0a9e-44d0-9917-85c77036026b"
   },
   "outputs": [
    {
     "data": {
      "image/png": "[encoded data removed]",
      "text/plain": [
       "<Figure size 1080x216 with 20 Axes>"
      ]
     },
     "metadata": {
      "tags": []
     },
     "output_type": "display_data"
    }
   ],
   "source": [
    "# Compare original images with their reconstructions\n",
    "f, a = plt.subplots(2, 10, figsize=(15, 3))\n",
    "for i in range(example_to_show):\n",
    "    a[0][i].imshow(np.reshape(mnist.test.images[i], (28, 28)), cmap='Greys_r')\n",
    "    a[1][i].imshow(np.reshape(encode_decode1[i], (28, 28)), cmap='Greys_r')"
   ]
  },
  {
   "cell_type": "markdown",
   "metadata": {
    "colab_type": "text",
    "id": "gY8RInn2DBqw"
   },
   "source": [
    "##5.2. Testing 2"
   ]
  },
  {
   "cell_type": "code",
   "execution_count": 0,
   "metadata": {
    "colab": {},
    "colab_type": "code",
    "id": "BA3TMXDIDC9_"
   },
   "outputs": [],
   "source": [
    "# Applying encode and decode over test set\n",
    "noisy_images = images + 0.12 * np.random.randn(*images.shape)\n",
    "noisy_images = np.clip(noisy_images, 0., 1.)\n",
    "\n",
    "encode_decode2 = session.run(reconstructed_normalized, feed_dict={X: noisy_images.reshape((-1, 28, 28, 1))})"
   ]
  },
  {
   "cell_type": "code",
   "execution_count": 0,
   "metadata": {
    "colab": {
     "base_uri": "https://localhost:8080/",
     "height": 211
    },
    "colab_type": "code",
    "executionInfo": {
     "elapsed": 2675,
     "status": "ok",
     "timestamp": 1566154407038,
     "user": {
      "displayName": "Dennis Aprilla Christie",
      "photoUrl": "https://lh3.googleusercontent.com/-W_6VdV2VWBM/AAAAAAAAAAI/AAAAAAAADr0/Jovfu3kCHdA/s64/photo.jpg",
      "userId": "09637515618974467169"
     },
     "user_tz": -420
    },
    "id": "GDK5Czx7D3PV",
    "outputId": "3ec54f4b-4be1-486f-d977-a8c6b6adc14c"
   },
   "outputs": [
    {
     "data": {
      "image/png": "[encoded data removed]",
      "text/plain": [
       "<Figure size 1080x216 with 20 Axes>"
      ]
     },
     "metadata": {
      "tags": []
     },
     "output_type": "display_data"
    }
   ],
   "source": [
    "# Compare original images with their reconstructions\n",
    "f, a = plt.subplots(2, 10, figsize=(15, 3))\n",
    "for i in range(example_to_show):\n",
    "    a[0][i].imshow(np.reshape(noisy_images[i], (28, 28)), cmap='Greys_r')\n",
    "    a[1][i].imshow(np.reshape(encode_decode2[i], (28, 28)), cmap='Greys_r')"
   ]
  }
 ],
 "metadata": {
  "accelerator": "GPU",
  "colab": {
   "collapsed_sections": [],
   "name": "Convolutional Autoencoder (1).ipynb",
   "provenance": [],
   "version": "0.3.2"
  },
  "kernelspec": {
   "display_name": "Python 3",
   "language": "python",
   "name": "python3"
  },
  "language_info": {
   "codemirror_mode": {
    "name": "ipython",
    "version": 3
   },
   "file_extension": ".py",
   "mimetype": "text/x-python",
   "name": "python",
   "nbconvert_exporter": "python",
   "pygments_lexer": "ipython3",
   "version": "3.8.8"
  }
 },
 "nbformat": 4,
 "nbformat_minor": 1
}
