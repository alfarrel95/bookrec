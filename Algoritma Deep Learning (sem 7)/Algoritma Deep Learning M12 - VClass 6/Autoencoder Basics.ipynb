{
 "cells": [
  {
   "cell_type": "markdown",
   "metadata": {
    "colab_type": "text",
    "id": "t2s7fOXGJAmI"
   },
   "source": [
    "#1. Persiapan"
   ]
  },
  {
   "cell_type": "code",
   "execution_count": 0,
   "metadata": {
    "colab": {},
    "colab_type": "code",
    "id": "YnAH63RZ8-ks"
   },
   "outputs": [],
   "source": [
    "import tensorflow as tf\n",
    "import numpy as np\n",
    "import matplotlib.pyplot as plt\n",
    "%matplotlib inline"
   ]
  },
  {
   "cell_type": "code",
   "execution_count": 16,
   "metadata": {
    "colab": {
     "base_uri": "https://localhost:8080/",
     "height": 85
    },
    "colab_type": "code",
    "executionInfo": {
     "elapsed": 1156,
     "status": "ok",
     "timestamp": 1566154803706,
     "user": {
      "displayName": "Dennis Aprilla Christie",
      "photoUrl": "https://lh3.googleusercontent.com/-W_6VdV2VWBM/AAAAAAAAAAI/AAAAAAAADr0/Jovfu3kCHdA/s64/photo.jpg",
      "userId": "09637515618974467169"
     },
     "user_tz": -420
    },
    "id": "MQuzAp3I9Ndy",
    "outputId": "8ef2fe79-0214-4614-a55f-38ec0d103420"
   },
   "outputs": [
    {
     "name": "stdout",
     "output_type": "stream",
     "text": [
      "Extracting /tmp/data/train-images-idx3-ubyte.gz\n",
      "Extracting /tmp/data/train-labels-idx1-ubyte.gz\n",
      "Extracting /tmp/data/t10k-images-idx3-ubyte.gz\n",
      "Extracting /tmp/data/t10k-labels-idx1-ubyte.gz\n"
     ]
    }
   ],
   "source": [
    "# Import MINST data\n",
    "from tensorflow.examples.tutorials.mnist import input_data\n",
    "mnist = input_data.read_data_sets(\"/tmp/data/\", one_hot=True)"
   ]
  },
  {
   "cell_type": "markdown",
   "metadata": {
    "colab_type": "text",
    "id": "dflZf_EQJDCR"
   },
   "source": [
    "#2. Menyiapkan Hyperparameter"
   ]
  },
  {
   "cell_type": "code",
   "execution_count": 0,
   "metadata": {
    "colab": {},
    "colab_type": "code",
    "id": "itwd55cx_RSd"
   },
   "outputs": [],
   "source": [
    "# hyper parameters\n",
    "learning_rate = 0.01\n",
    "training_epochs = 20\n",
    "batch_size = 256\n",
    "\n",
    "# technical parameters\n",
    "display_step = 1\n",
    "examples_to_show = 10\n",
    "\n",
    "# network Parameters\n",
    "n_hidden_1 = 256      # 1st layer num features\n",
    "n_hidden_2 = 128      # 2nd layer num features\n",
    "n_input = 784         # MNIST data input (img shape: 28*28)"
   ]
  },
  {
   "cell_type": "markdown",
   "metadata": {
    "colab_type": "text",
    "id": "xi4FcDHsJGxe"
   },
   "source": [
    "#3. Membangun Autoencoder"
   ]
  },
  {
   "cell_type": "markdown",
   "metadata": {
    "colab_type": "text",
    "id": "rU7df6vCJJM1"
   },
   "source": [
    "##3.1. Menyiapkan Input"
   ]
  },
  {
   "cell_type": "code",
   "execution_count": 0,
   "metadata": {
    "colab": {},
    "colab_type": "code",
    "id": "CsALuRFAEEDT"
   },
   "outputs": [],
   "source": [
    "X = tf.placeholder(\"float\", [None, n_input])\n",
    "X"
   ]
  },
  {
   "cell_type": "markdown",
   "metadata": {
    "colab_type": "text",
    "id": "Q3ZRFRVaJNVX"
   },
   "source": [
    "##3.2. Menyiapkan Variable"
   ]
  },
  {
   "cell_type": "code",
   "execution_count": 0,
   "metadata": {
    "colab": {},
    "colab_type": "code",
    "id": "R3xvp2NH_lms"
   },
   "outputs": [],
   "source": [
    "weights = {\n",
    "    'encoder_h1': tf.Variable(tf.random_normal([n_input, n_hidden_1])),\n",
    "    'encoder_h2': tf.Variable(tf.random_normal([n_hidden_1, n_hidden_2])),\n",
    "    'decoder_h1': tf.Variable(tf.random_normal([n_hidden_2, n_hidden_1])),\n",
    "    'decoder_h2': tf.Variable(tf.random_normal([n_hidden_1, n_input]))\n",
    "}"
   ]
  },
  {
   "cell_type": "code",
   "execution_count": 0,
   "metadata": {
    "colab": {},
    "colab_type": "code",
    "id": "iwo7mwxLA627"
   },
   "outputs": [],
   "source": [
    "biases = {\n",
    "    'encoder_b1': tf.Variable(tf.random_normal([n_hidden_1])),\n",
    "    'encoder_b2': tf.Variable(tf.random_normal([n_hidden_2])),\n",
    "    'decoder_b1': tf.Variable(tf.random_normal([n_hidden_1])),\n",
    "    'decoder_b2': tf.Variable(tf.random_normal([n_input]))\n",
    "}"
   ]
  },
  {
   "cell_type": "markdown",
   "metadata": {
    "colab_type": "text",
    "id": "fUQU3552JP-I"
   },
   "source": [
    "##3.3. Membangun Arsitektur Autoencoder"
   ]
  },
  {
   "cell_type": "code",
   "execution_count": 0,
   "metadata": {
    "colab": {},
    "colab_type": "code",
    "id": "22hXd68CBbQg"
   },
   "outputs": [],
   "source": [
    "def encoder(x):\n",
    "\n",
    "  layer_1 = tf.nn.sigmoid(tf.add(tf.matmul(x, weights['encoder_h1']), biases['encoder_b1']))\n",
    "\n",
    "  layer_2 = tf.nn.sigmoid(tf.add(tf.matmul(layer_1, weights['encoder_h2']), biases['encoder_b2']))\n",
    "\n",
    "  return layer_2"
   ]
  },
  {
   "cell_type": "code",
   "execution_count": 0,
   "metadata": {
    "colab": {},
    "colab_type": "code",
    "id": "iiOQN9eSCEvM"
   },
   "outputs": [],
   "source": [
    "def decoder(x):\n",
    "\n",
    "  layer_1 = tf.nn.sigmoid(tf.add(tf.matmul(x, weights['decoder_h1']), biases['encoder_b1']))\n",
    "\n",
    "  layer_2 = tf.nn.sigmoid(tf.add(tf.matmul(layer_1, weights['decoder_h2']), biases['decoder_b2']))\n",
    "\n",
    "  return layer_2"
   ]
  },
  {
   "cell_type": "code",
   "execution_count": 0,
   "metadata": {
    "colab": {},
    "colab_type": "code",
    "id": "abH8yn9HCcFb"
   },
   "outputs": [],
   "source": [
    "encoder_op = encoder(X)\n",
    "decoder_op = decoder(encoder_op)"
   ]
  },
  {
   "cell_type": "markdown",
   "metadata": {
    "colab_type": "text",
    "id": "krcXaEAtJYws"
   },
   "source": [
    "##3.4. Prediksi"
   ]
  },
  {
   "cell_type": "code",
   "execution_count": 0,
   "metadata": {
    "colab": {},
    "colab_type": "code",
    "id": "uAmFF7_iCjnq"
   },
   "outputs": [],
   "source": [
    "y_pred = decoder_op\n",
    "y_true = X"
   ]
  },
  {
   "cell_type": "markdown",
   "metadata": {
    "colab_type": "text",
    "id": "CMUnJ1LmJnbA"
   },
   "source": [
    "##3.5. Loss dan Optimisasi"
   ]
  },
  {
   "cell_type": "code",
   "execution_count": 0,
   "metadata": {
    "colab": {},
    "colab_type": "code",
    "id": "nkjAT53HJmd2"
   },
   "outputs": [],
   "source": [
    "cost = tf.reduce_mean(tf.pow(y_true - y_pred, 2))\n",
    "optimizer = tf.train.AdamOptimizer(learning_rate=learning_rate).minimize(cost)"
   ]
  },
  {
   "cell_type": "markdown",
   "metadata": {
    "colab_type": "text",
    "id": "wnLwFbVfJp6q"
   },
   "source": [
    "#4. Training"
   ]
  },
  {
   "cell_type": "code",
   "execution_count": 11,
   "metadata": {
    "colab": {
     "base_uri": "https://localhost:8080/",
     "height": 374
    },
    "colab_type": "code",
    "executionInfo": {
     "elapsed": 13873,
     "status": "ok",
     "timestamp": 1566154611567,
     "user": {
      "displayName": "Dennis Aprilla Christie",
      "photoUrl": "https://lh3.googleusercontent.com/-W_6VdV2VWBM/AAAAAAAAAAI/AAAAAAAADr0/Jovfu3kCHdA/s64/photo.jpg",
      "userId": "09637515618974467169"
     },
     "user_tz": -420
    },
    "id": "uNe8fE3SC5ev",
    "outputId": "55185d00-7666-4b30-b4d3-e75d2c1aada9"
   },
   "outputs": [
    {
     "name": "stdout",
     "output_type": "stream",
     "text": [
      "epoch = 0/19... cost = 0.0883\n",
      "epoch = 1/19... cost = 0.0776\n",
      "epoch = 2/19... cost = 0.0743\n",
      "epoch = 3/19... cost = 0.0724\n",
      "epoch = 4/19... cost = 0.0696\n",
      "epoch = 5/19... cost = 0.0671\n",
      "epoch = 6/19... cost = 0.0650\n",
      "epoch = 7/19... cost = 0.0624\n",
      "epoch = 8/19... cost = 0.0642\n",
      "epoch = 9/19... cost = 0.0636\n",
      "epoch = 10/19... cost = 0.0616\n",
      "epoch = 11/19... cost = 0.0570\n",
      "epoch = 12/19... cost = 0.0604\n",
      "epoch = 13/19... cost = 0.0604\n",
      "epoch = 14/19... cost = 0.0568\n",
      "epoch = 15/19... cost = 0.0574\n",
      "epoch = 16/19... cost = 0.0559\n",
      "epoch = 17/19... cost = 0.0557\n",
      "epoch = 18/19... cost = 0.0567\n",
      "epoch = 19/19... cost = 0.0561\n",
      "Done!\n"
     ]
    }
   ],
   "source": [
    "init = tf.global_variables_initializer()\n",
    "\n",
    "session = tf.InteractiveSession()\n",
    "session.run(init)\n",
    "\n",
    "total_batch = int(mnist.train.num_examples/batch_size)\n",
    "\n",
    "for epoch in range(training_epochs):\n",
    "\n",
    "  for i in range(total_batch):\n",
    "\n",
    "    batch_x, batch_y = mnist.train.next_batch(batch_size)\n",
    "\n",
    "    _, c = session.run([optimizer, cost], feed_dict={X:batch_x})\n",
    "\n",
    "  if epoch % display_step == 0:\n",
    "    print(f'epoch = {epoch}/{training_epochs-1}... cost = {c:.4f}')\n",
    "\n",
    "print('Done!')"
   ]
  },
  {
   "cell_type": "markdown",
   "metadata": {
    "colab_type": "text",
    "id": "Z7DZ8J3rJsiE"
   },
   "source": [
    "#5. Testing"
   ]
  },
  {
   "cell_type": "code",
   "execution_count": 14,
   "metadata": {
    "colab": {
     "base_uri": "https://localhost:8080/",
     "height": 211
    },
    "colab_type": "code",
    "executionInfo": {
     "elapsed": 2484,
     "status": "ok",
     "timestamp": 1566154652798,
     "user": {
      "displayName": "Dennis Aprilla Christie",
      "photoUrl": "https://lh3.googleusercontent.com/-W_6VdV2VWBM/AAAAAAAAAAI/AAAAAAAADr0/Jovfu3kCHdA/s64/photo.jpg",
      "userId": "09637515618974467169"
     },
     "user_tz": -420
    },
    "id": "5yhucyH5FMIF",
    "outputId": "236c089d-4179-45cb-e4cc-d1cda30c8560"
   },
   "outputs": [
    {
     "data": {
      "image/png": "[encoded data removed]",
      "text/plain": [
       "<Figure size 1080x216 with 20 Axes>"
      ]
     },
     "metadata": {
      "tags": []
     },
     "output_type": "display_data"
    }
   ],
   "source": [
    "encode_decode = session.run(y_pred, feed_dict={X: mnist.test.images[:examples_to_show]})\n",
    "\n",
    "f, a = plt.subplots(2, 10, figsize=(15, 3))\n",
    "for i in range(examples_to_show):\n",
    "    a[0][i].imshow(np.reshape(mnist.test.images[i], (28, 28)))\n",
    "    a[1][i].imshow(np.reshape(encode_decode[i], (28, 28)))"
   ]
  }
 ],
 "metadata": {
  "accelerator": "GPU",
  "colab": {
   "collapsed_sections": [],
   "name": "AE Basics.ipynb",
   "provenance": [],
   "version": "0.3.2"
  },
  "kernelspec": {
   "display_name": "Python 3",
   "language": "python",
   "name": "python3"
  },
  "language_info": {
   "codemirror_mode": {
    "name": "ipython",
    "version": 3
   },
   "file_extension": ".py",
   "mimetype": "text/x-python",
   "name": "python",
   "nbconvert_exporter": "python",
   "pygments_lexer": "ipython3",
   "version": "3.8.8"
  }
 },
 "nbformat": 4,
 "nbformat_minor": 1
}
