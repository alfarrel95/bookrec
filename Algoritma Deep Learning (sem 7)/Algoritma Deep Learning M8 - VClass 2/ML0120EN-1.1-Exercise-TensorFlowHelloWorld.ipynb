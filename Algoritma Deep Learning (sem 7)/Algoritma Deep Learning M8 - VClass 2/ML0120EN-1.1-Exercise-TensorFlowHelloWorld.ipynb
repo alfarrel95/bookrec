{
 "cells": [
  {
   "cell_type": "markdown",
   "metadata": {
    "colab_type": "text",
    "id": "_CumcmkQZNzs"
   },
   "source": [
    "<img src = \"https://i.imgur.com/UjutVJd.jpg\" align = \"center\">"
   ]
  },
  {
   "cell_type": "markdown",
   "metadata": {
    "colab_type": "text",
    "id": "maxEB2QZZNzu"
   },
   "source": [
    "# \"Hello World\" in TensorFlow  - Exercise Notebook"
   ]
  },
  {
   "cell_type": "markdown",
   "metadata": {
    "colab_type": "text",
    "id": "QIjwJFvEZNzv"
   },
   "source": [
    "### Before everything, let's import the TensorFlow library"
   ]
  },
  {
   "cell_type": "code",
   "execution_count": 0,
   "metadata": {
    "colab": {},
    "colab_type": "code",
    "id": "7gedcZ4fZNzw"
   },
   "outputs": [],
   "source": [
    "%matplotlib inline\n",
    "import tensorflow as tf"
   ]
  },
  {
   "cell_type": "markdown",
   "metadata": {
    "colab_type": "text",
    "id": "ID5cREgZZNz1"
   },
   "source": [
    "### First, try to add the two constants and print the result."
   ]
  },
  {
   "cell_type": "code",
   "execution_count": 0,
   "metadata": {
    "colab": {},
    "colab_type": "code",
    "id": "HWusQOt8ZNz2"
   },
   "outputs": [],
   "source": [
    "a = tf.constant([5])\n",
    "b = tf.constant([2])"
   ]
  },
  {
   "cell_type": "markdown",
   "metadata": {
    "colab_type": "text",
    "id": "V1XQc9mtZNz7"
   },
   "source": [
    "create another TensorFlow object applying the sum (+) operation:"
   ]
  },
  {
   "cell_type": "code",
   "execution_count": 0,
   "metadata": {
    "colab": {},
    "colab_type": "code",
    "id": "MQDdSiJ7ZNz8"
   },
   "outputs": [],
   "source": [
    "#Your code goes here\n",
    "c=a+b\n",
    "c=tf.add(a,b)"
   ]
  },
  {
   "cell_type": "markdown",
   "metadata": {
    "colab_type": "text",
    "id": "ow5VhaZ4ZN0A"
   },
   "source": [
    "**Double click here for solution one**\n",
    "<!--\n",
    "c=a+b\n",
    "-->\n"
   ]
  },
  {
   "cell_type": "markdown",
   "metadata": {
    "colab_type": "text",
    "id": "jDeujmYlFPOy"
   },
   "source": [
    "\n",
    "**Double click here for solution two**\n",
    "<!--\n",
    "c=tf.add(a,b)\n",
    "-->"
   ]
  },
  {
   "cell_type": "code",
   "execution_count": 5,
   "metadata": {
    "colab": {
     "base_uri": "https://localhost:8080/",
     "height": 34
    },
    "colab_type": "code",
    "executionInfo": {
     "elapsed": 1403,
     "status": "ok",
     "timestamp": 1561437444184,
     "user": {
      "displayName": "Dennis Aprilla Christie",
      "photoUrl": "https://lh3.googleusercontent.com/-W_6VdV2VWBM/AAAAAAAAAAI/AAAAAAAADr0/Jovfu3kCHdA/s64/photo.jpg",
      "userId": "09637515618974467169"
     },
     "user_tz": -420
    },
    "id": "77MQstMCZN0B",
    "outputId": "2640e99d-47aa-4fe7-d48f-f6e82f169128"
   },
   "outputs": [
    {
     "name": "stdout",
     "output_type": "stream",
     "text": [
      "The addition of this two constants is: [7]\n"
     ]
    }
   ],
   "source": [
    "with tf.Session() as session:\n",
    "    result = session.run(c)\n",
    "    print \"The addition of this two constants is: {0}\".format(result)"
   ]
  },
  {
   "cell_type": "markdown",
   "metadata": {
    "colab_type": "text",
    "id": "VZ2vdJMmZN0E"
   },
   "source": [
    "---\n",
    "### Now let's try to multiply them."
   ]
  },
  {
   "cell_type": "code",
   "execution_count": 0,
   "metadata": {
    "colab": {},
    "colab_type": "code",
    "id": "x7B0eXVzZN0F"
   },
   "outputs": [],
   "source": [
    "# Your code goes here. Use the multiplication operator.\n",
    "\n",
    "\n",
    "c=a*b\n",
    "c=tf.multiply(a,b)"
   ]
  },
  {
   "cell_type": "markdown",
   "metadata": {
    "colab_type": "text",
    "id": "-gf2KD63ZN0I"
   },
   "source": [
    "**Double click here for solution one**\n",
    "<!--\n",
    "c=a*b\n",
    "-->\n"
   ]
  },
  {
   "cell_type": "markdown",
   "metadata": {
    "colab_type": "text",
    "id": "G8Bup9chFjCO"
   },
   "source": [
    "\n",
    "**Double click here for solution two**\n",
    "<!--\n",
    "c=tf.multiply(a,b)\n",
    "-->"
   ]
  },
  {
   "cell_type": "code",
   "execution_count": 7,
   "metadata": {
    "colab": {
     "base_uri": "https://localhost:8080/",
     "height": 34
    },
    "colab_type": "code",
    "executionInfo": {
     "elapsed": 1360,
     "status": "ok",
     "timestamp": 1561437444193,
     "user": {
      "displayName": "Dennis Aprilla Christie",
      "photoUrl": "https://lh3.googleusercontent.com/-W_6VdV2VWBM/AAAAAAAAAAI/AAAAAAAADr0/Jovfu3kCHdA/s64/photo.jpg",
      "userId": "09637515618974467169"
     },
     "user_tz": -420
    },
    "id": "ebcB00oIZN0J",
    "outputId": "0d4c93c4-955c-41b8-9c47-db141e900135"
   },
   "outputs": [
    {
     "name": "stdout",
     "output_type": "stream",
     "text": [
      "The Multiplication of this two constants is: [10]\n"
     ]
    }
   ],
   "source": [
    "with tf.Session() as session:\n",
    "    result = session.run(c)\n",
    "    print \"The Multiplication of this two constants is: {0}\".format(result)"
   ]
  },
  {
   "cell_type": "markdown",
   "metadata": {
    "colab_type": "text",
    "id": "V5XXVCdMZN0M"
   },
   "source": [
    "### Multiplication: element-wise or matrix multiplication\n",
    "\n",
    "Let's practice the different ways to multiply matrices:\n",
    "- **Element-wise** multiplication in the **first operation** ;\n",
    "- **Matrix multiplication** on the **second operation**  ;"
   ]
  },
  {
   "cell_type": "code",
   "execution_count": 0,
   "metadata": {
    "colab": {},
    "colab_type": "code",
    "id": "VUwpt68cZN0O",
    "scrolled": true
   },
   "outputs": [],
   "source": [
    "matrixA = tf.constant([[2,3],[3,4]])\n",
    "matrixB = tf.constant([[2,3],[3,4]])"
   ]
  },
  {
   "cell_type": "code",
   "execution_count": 0,
   "metadata": {
    "colab": {},
    "colab_type": "code",
    "id": "Y1l3dcwbZN0U"
   },
   "outputs": [],
   "source": [
    "# Your code goes here\n",
    "\n",
    "first_operation=tf.multiply(matrixA, matrixB)\n",
    "second_operation=tf.matmul(matrixA, matrixB)\n"
   ]
  },
  {
   "cell_type": "markdown",
   "metadata": {
    "colab_type": "text",
    "id": "SMj6atxoZN0Y"
   },
   "source": [
    "**Double click here for solution**\n",
    "<!--\n",
    "first_operation=tf.multiply(matrixA, matrixB)\n",
    "second_operation=tf.matmul(matrixA,matrixB)\n",
    "-->"
   ]
  },
  {
   "cell_type": "code",
   "execution_count": 10,
   "metadata": {
    "colab": {
     "base_uri": "https://localhost:8080/",
     "height": 119
    },
    "colab_type": "code",
    "executionInfo": {
     "elapsed": 1320,
     "status": "ok",
     "timestamp": 1561437444203,
     "user": {
      "displayName": "Dennis Aprilla Christie",
      "photoUrl": "https://lh3.googleusercontent.com/-W_6VdV2VWBM/AAAAAAAAAAI/AAAAAAAADr0/Jovfu3kCHdA/s64/photo.jpg",
      "userId": "09637515618974467169"
     },
     "user_tz": -420
    },
    "id": "53mTZS3VZN0Z",
    "outputId": "d7a2f5c0-095a-4f5f-b551-abff3bbfa532"
   },
   "outputs": [
    {
     "name": "stdout",
     "output_type": "stream",
     "text": [
      "Element-wise multiplication: \n",
      "[[ 4  9]\n",
      " [ 9 16]]\n",
      "Matrix Multiplication: \n",
      "[[13 18]\n",
      " [18 25]]\n"
     ]
    }
   ],
   "source": [
    "with tf.Session() as session:\n",
    "    result = session.run(first_operation)\n",
    "    print \"Element-wise multiplication: \\n\", result\n",
    "\n",
    "    result = session.run(second_operation)\n",
    "    print \"Matrix Multiplication: \\n\", result"
   ]
  },
  {
   "cell_type": "markdown",
   "metadata": {
    "colab_type": "text",
    "id": "asCbEJPlZN0d"
   },
   "source": [
    "---\n",
    "### Modify the value of variable b to the value in constant a: "
   ]
  },
  {
   "cell_type": "code",
   "execution_count": 0,
   "metadata": {
    "colab": {},
    "colab_type": "code",
    "id": "_CX-WD53ZN0f",
    "scrolled": true
   },
   "outputs": [],
   "source": [
    "a=tf.constant(1000)\n",
    "b=tf.Variable(0)\n",
    "init_op = tf.global_variables_initializer()"
   ]
  },
  {
   "cell_type": "code",
   "execution_count": 0,
   "metadata": {
    "colab": {},
    "colab_type": "code",
    "id": "geKLXJ1eZN0k"
   },
   "outputs": [],
   "source": [
    "# Your code goes here\n",
    "\n",
    "\n"
   ]
  },
  {
   "cell_type": "markdown",
   "metadata": {
    "colab_type": "text",
    "id": "uJ0LqgGqZN0o"
   },
   "source": [
    "**Double click here for solution**\n",
    "\n",
    "<!--\n",
    "a=tf.constant(1000)\n",
    "b=tf.Variable(0)\n",
    "init_op = tf.global_variables_initializer()\n",
    "update = tf.assign(b,a)\n",
    "with tf.Session() as session:\n",
    "    session.run(init_op) \n",
    "    session.run(update) \n",
    "    print(session.run(b))\n",
    "-->"
   ]
  },
  {
   "cell_type": "markdown",
   "metadata": {
    "colab_type": "text",
    "id": "FHoMW-c7ZN0q"
   },
   "source": [
    "---\n",
    "### Fibonacci sequence\n",
    "\n",
    "Now try to do something more advanced. Try to create a __fibonnacci sequence__ and print the first few values using TensorFlow:</b></h3>\n",
    "\n",
    "If you don't know, the fibonnacci sequence is defined by the equation: <br><br>\n",
    "$$F_{n} = F_{n-1} + F_{n-2}$$<br>\n",
    "Resulting in a sequence like: 1,1,2,3,5,8,13,21...\n",
    "\n",
    "\n"
   ]
  },
  {
   "cell_type": "code",
   "execution_count": 0,
   "metadata": {
    "colab": {},
    "colab_type": "code",
    "id": "AC3nGWTiZN0s"
   },
   "outputs": [],
   "source": [
    "\n",
    "\n",
    "\n",
    "\n",
    "\n"
   ]
  },
  {
   "cell_type": "markdown",
   "metadata": {
    "colab_type": "text",
    "id": "IV1LWQH6ZN0y"
   },
   "source": [
    "**Double click here for first solution**\n",
    "\n",
    "<!--\n",
    "a=tf.Variable(0)\n",
    "b=tf.Variable(1)\n",
    "temp=tf.Variable(0)\n",
    "c=a+b\n",
    "\n",
    "update1=tf.assign(temp,c)\n",
    "update2=tf.assign(a,b)\n",
    "update3=tf.assign(b,temp)\n",
    "\n",
    "init_op = tf.initialize_all_variables()\n",
    "with tf.Session() as s:\n",
    "\ts.run(init_op)\n",
    "\tfor _ in range(15):\n",
    "\t\tprint(s.run(a))\n",
    "\t\ts.run(update1)\n",
    "\t\ts.run(update2)\n",
    "\t\ts.run(update3)\n",
    "-->\n"
   ]
  },
  {
   "cell_type": "markdown",
   "metadata": {
    "colab_type": "text",
    "id": "0kaP_Nys8ZCZ"
   },
   "source": [
    "**Double click here for second solution**\n",
    "\n",
    "<!--\n",
    "f = [tf.constant(1),tf.constant(1)]\n",
    "\n",
    "for i in range(2,10):\n",
    "\ttemp = f[i-1] + f[i-2]\n",
    "\tf.append(temp)\n",
    "\n",
    "with tf.Session() as sess:\n",
    "\tresult = sess.run(f)\n",
    "\tprint result\n",
    "-->"
   ]
  },
  {
   "cell_type": "markdown",
   "metadata": {
    "colab_type": "text",
    "id": "uLCn-pg8ZN0z"
   },
   "source": [
    "---\n",
    "\n",
    "### Now try to create your own placeholders and define any kind of operation between them:\n",
    "\n"
   ]
  },
  {
   "cell_type": "code",
   "execution_count": 0,
   "metadata": {
    "colab": {},
    "colab_type": "code",
    "id": "LOt-ihf5ZN00"
   },
   "outputs": [],
   "source": [
    "# Your code goes here\n",
    "\n",
    "\n"
   ]
  },
  {
   "cell_type": "markdown",
   "metadata": {
    "colab_type": "text",
    "id": "DMXGoPu0ZN07"
   },
   "source": [
    "**Double click here for solution**\n",
    "\n",
    "\n",
    "<!--\n",
    "a=tf.placeholder(tf.float32)\n",
    "b=tf.placeholder(tf.float32)\n",
    "\n",
    "c=2*a -b\n",
    "\n",
    "dictionary = {a:[2,2],b:[3,4]}\n",
    "with tf.Session() as session:\n",
    "\tprint session.run(c,feed_dict=dictionary)\n",
    "-->"
   ]
  },
  {
   "cell_type": "markdown",
   "metadata": {
    "colab_type": "text",
    "id": "Yd4G9rfhZN09"
   },
   "source": [
    "### Try changing our example with some other operations and see the result.\n",
    "\n",
    "<div class=\"alert alert-info alertinfo\">\n",
    "<font size = 3><strong>Some examples of functions:</strong></font>  \n",
    "<br>\n",
    "tf.multiply(x, y)<br />\n",
    "tf.div(x, y)<br />\n",
    "tf.square(x)<br />\n",
    "tf.sqrt(x)<br />\n",
    "tf.pow(x, y)<br />\n",
    "tf.exp(x)<br />\n",
    "tf.log(x)<br />\n",
    "tf.cos(x)<br />\n",
    "tf.sin(x)<br /> <br>\n",
    "\n",
    "You can also take a look at [more operations]( https://www.tensorflow.org/versions/r0.9/api_docs/python/math_ops.html)\n",
    "</div>"
   ]
  },
  {
   "cell_type": "code",
   "execution_count": 0,
   "metadata": {
    "colab": {},
    "colab_type": "code",
    "id": "U8blAUTtZN0-"
   },
   "outputs": [],
   "source": [
    "a = tf.constant(5.)\n",
    "b = tf.constant(2.)"
   ]
  },
  {
   "cell_type": "markdown",
   "metadata": {
    "colab_type": "text",
    "id": "KuEYbzKIZN1L"
   },
   "source": [
    "create a variable named **`c`** to receive the result an operation (at your choice):"
   ]
  },
  {
   "cell_type": "code",
   "execution_count": 0,
   "metadata": {
    "colab": {},
    "colab_type": "code",
    "id": "rfmXZfmoZN1N"
   },
   "outputs": [],
   "source": [
    "#your code goes here\n",
    "\n"
   ]
  },
  {
   "cell_type": "markdown",
   "metadata": {
    "colab_type": "text",
    "id": "nXylxCGwZN1S"
   },
   "source": [
    "**Double click here for solution**\n",
    "\n",
    "<!--\n",
    "c=tf.sin(a)\n",
    "-->"
   ]
  },
  {
   "cell_type": "code",
   "execution_count": 14,
   "metadata": {
    "colab": {
     "base_uri": "https://localhost:8080/",
     "height": 34
    },
    "colab_type": "code",
    "executionInfo": {
     "elapsed": 1739,
     "status": "ok",
     "timestamp": 1561437444728,
     "user": {
      "displayName": "Dennis Aprilla Christie",
      "photoUrl": "https://lh3.googleusercontent.com/-W_6VdV2VWBM/AAAAAAAAAAI/AAAAAAAADr0/Jovfu3kCHdA/s64/photo.jpg",
      "userId": "09637515618974467169"
     },
     "user_tz": -420
    },
    "id": "cuqpR3ZDZN1S",
    "outputId": "d0e3900a-06f4-4e4a-ef82-b6243cf9e4b6"
   },
   "outputs": [
    {
     "name": "stdout",
     "output_type": "stream",
     "text": [
      "c =: [10]\n"
     ]
    }
   ],
   "source": [
    "with tf.Session() as session:\n",
    "    result = session.run(c)\n",
    "    print \"c =: {}\".format(result)"
   ]
  },
  {
   "cell_type": "markdown",
   "metadata": {
    "colab_type": "text",
    "id": "7bW0UtnyZN1V"
   },
   "source": [
    "They're really similar to mathematical functions the only difference is that operations works over tensors."
   ]
  },
  {
   "cell_type": "markdown",
   "metadata": {
    "colab_type": "text",
    "collapsed": true,
    "id": "4t7DimHUZN1W"
   },
   "source": [
    "# Thanks for completing this lesson!\n",
    "\n",
    "<p>Copyright &copy; 2017 IBM <a href=\"https://cognitiveclass.ai/?utm_source=ML0151&utm_medium=lab&utm_campaign=cclab\">IBM Cognitive Class</a>. This notebook and its source code are released under the terms of the <a href=\"https://cognitiveclass.ai/mit-license/\">MIT License</a>.</p>\n",
    "\n"
   ]
  }
 ],
 "metadata": {
  "colab": {
   "collapsed_sections": [],
   "name": "ML0120EN-1.1-Exercise-TensorFlowHelloWorld.ipynb",
   "provenance": [],
   "toc_visible": true,
   "version": "0.3.2"
  },
  "kernelspec": {
   "display_name": "Python 3",
   "language": "python",
   "name": "python3"
  },
  "language_info": {
   "codemirror_mode": {
    "name": "ipython",
    "version": 3
   },
   "file_extension": ".py",
   "mimetype": "text/x-python",
   "name": "python",
   "nbconvert_exporter": "python",
   "pygments_lexer": "ipython3",
   "version": "3.8.8"
  }
 },
 "nbformat": 4,
 "nbformat_minor": 1
}
