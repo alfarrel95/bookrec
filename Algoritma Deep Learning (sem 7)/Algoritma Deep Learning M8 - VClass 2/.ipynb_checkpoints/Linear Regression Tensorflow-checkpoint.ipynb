{
 "cells": [
  {
   "cell_type": "code",
   "execution_count": 0,
   "metadata": {
    "colab": {},
    "colab_type": "code",
    "id": "EvWye2TdDBh4"
   },
   "outputs": [],
   "source": [
    "import tensorflow as tf\n",
    "import numpy as np\n",
    "import matplotlib.pyplot as plt\n",
    "\n",
    "%matplotlib inline"
   ]
  },
  {
   "cell_type": "code",
   "execution_count": 0,
   "metadata": {
    "colab": {},
    "colab_type": "code",
    "id": "9AUM1faeDmlj"
   },
   "outputs": [],
   "source": [
    "learning_rate = 0.01\n",
    "epochs = 200"
   ]
  },
  {
   "cell_type": "code",
   "execution_count": 0,
   "metadata": {
    "colab": {},
    "colab_type": "code",
    "id": "XL1JCENVDp-5"
   },
   "outputs": [],
   "source": [
    "n_samples = 30\n",
    "x_train = np.linspace(0, 20, n_samples)\n",
    "y_train = 3 * x_train + 4 * np.random.randn(n_samples)"
   ]
  },
  {
   "cell_type": "code",
   "execution_count": 4,
   "metadata": {
    "colab": {
     "base_uri": "https://localhost:8080/",
     "height": 269
    },
    "colab_type": "code",
    "executionInfo": {
     "elapsed": 2973,
     "status": "ok",
     "timestamp": 1565665326099,
     "user": {
      "displayName": "Dennis Aprilla Christie",
      "photoUrl": "https://lh3.googleusercontent.com/-W_6VdV2VWBM/AAAAAAAAAAI/AAAAAAAADr0/Jovfu3kCHdA/s64/photo.jpg",
      "userId": "09637515618974467169"
     },
     "user_tz": -420
    },
    "id": "5o4da4njEAhY",
    "outputId": "4d484453-ce09-4382-d4dc-ad7f1af28857"
   },
   "outputs": [
    {
     "data": {
      "image/png": "[encoded data removed]",
      "text/plain": [
       "<Figure size 432x288 with 1 Axes>"
      ]
     },
     "metadata": {
      "tags": []
     },
     "output_type": "display_data"
    }
   ],
   "source": [
    "plt.plot(x_train, y_train, 'or')\n",
    "plt.show()"
   ]
  },
  {
   "cell_type": "code",
   "execution_count": 0,
   "metadata": {
    "colab": {},
    "colab_type": "code",
    "id": "Zycspss8EGI5"
   },
   "outputs": [],
   "source": [
    "X = tf.placeholder(tf.float32)\n",
    "Y = tf.placeholder(tf.float32)\n",
    "\n",
    "W = tf.Variable(np.random.randn(), name='weight')\n",
    "B = tf.Variable(np.random.randn(), name='bias')"
   ]
  },
  {
   "cell_type": "code",
   "execution_count": 0,
   "metadata": {
    "colab": {},
    "colab_type": "code",
    "id": "OpzEBX23E4ZC"
   },
   "outputs": [],
   "source": [
    "# pred = X * W + B\n",
    "pred = tf.add(tf.multiply(X, W), B)"
   ]
  },
  {
   "cell_type": "code",
   "execution_count": 0,
   "metadata": {
    "colab": {},
    "colab_type": "code",
    "id": "jiNQTR9lFe-d"
   },
   "outputs": [],
   "source": [
    "# loss = tf.reduce_mean(tf.square(pred - Y))\n",
    "loss = tf.reduce_sum((pred - Y)**2 / (n_samples))"
   ]
  },
  {
   "cell_type": "code",
   "execution_count": 12,
   "metadata": {
    "colab": {
     "base_uri": "https://localhost:8080/",
     "height": 89
    },
    "colab_type": "code",
    "executionInfo": {
     "elapsed": 1052,
     "status": "ok",
     "timestamp": 1565665364483,
     "user": {
      "displayName": "Dennis Aprilla Christie",
      "photoUrl": "https://lh3.googleusercontent.com/-W_6VdV2VWBM/AAAAAAAAAAI/AAAAAAAADr0/Jovfu3kCHdA/s64/photo.jpg",
      "userId": "09637515618974467169"
     },
     "user_tz": -420
    },
    "id": "fNWCmnlPF4Yl",
    "outputId": "262e1fbe-f6fe-41a7-860d-fcc900d2ca9d"
   },
   "outputs": [
    {
     "name": "stderr",
     "output_type": "stream",
     "text": [
      "W0813 03:02:43.897150 140432085067648 deprecation.py:323] From /usr/local/lib/python3.6/dist-packages/tensorflow/python/ops/math_grad.py:1205: add_dispatch_support.<locals>.wrapper (from tensorflow.python.ops.array_ops) is deprecated and will be removed in a future version.\n",
      "Instructions for updating:\n",
      "Use tf.where in 2.0, which has the same broadcast rule as np.where\n"
     ]
    }
   ],
   "source": [
    "optimizer = tf.train.GradientDescentOptimizer(learning_rate)\n",
    "train = optimizer.minimize(loss)"
   ]
  },
  {
   "cell_type": "code",
   "execution_count": 0,
   "metadata": {
    "colab": {},
    "colab_type": "code",
    "id": "wXsOgCs_GM_B"
   },
   "outputs": [],
   "source": [
    "init = tf.global_variables_initializer()"
   ]
  },
  {
   "cell_type": "code",
   "execution_count": 14,
   "metadata": {
    "colab": {
     "base_uri": "https://localhost:8080/",
     "height": 443
    },
    "colab_type": "code",
    "executionInfo": {
     "elapsed": 4632,
     "status": "ok",
     "timestamp": 1565665372421,
     "user": {
      "displayName": "Dennis Aprilla Christie",
      "photoUrl": "https://lh3.googleusercontent.com/-W_6VdV2VWBM/AAAAAAAAAAI/AAAAAAAADr0/Jovfu3kCHdA/s64/photo.jpg",
      "userId": "09637515618974467169"
     },
     "user_tz": -420
    },
    "id": "ggJLxvnOGS7H",
    "outputId": "adcf3f91-957f-470e-81b1-f8334252ddd1"
   },
   "outputs": [
    {
     "name": "stdout",
     "output_type": "stream",
     "text": [
      "epoch:  0 ; loss:  20.875807 ; weight:  2.8677213 ; bias:  -0.23284647\n",
      "epoch:  20 ; loss:  19.665483 ; weight:  2.9406233 ; bias:  -0.14366178\n",
      "epoch:  40 ; loss:  19.641373 ; weight:  2.9363594 ; bias:  -0.06993449\n",
      "epoch:  60 ; loss:  19.622374 ; weight:  2.9325104 ; bias:  -0.0033746744\n",
      "epoch:  80 ; loss:  19.607492 ; weight:  2.9290354 ; bias:  0.05671457\n",
      "epoch:  100 ; loss:  19.595892 ; weight:  2.925898 ; bias:  0.11096184\n",
      "epoch:  120 ; loss:  19.58692 ; weight:  2.9230661 ; bias:  0.15993564\n",
      "epoch:  140 ; loss:  19.580046 ; weight:  2.920509 ; bias:  0.20414801\n",
      "epoch:  160 ; loss:  19.574839 ; weight:  2.918201 ; bias:  0.24406226\n",
      "epoch:  180 ; loss:  19.570946 ; weight:  2.916117 ; bias:  0.28009635\n"
     ]
    },
    {
     "data": {
      "image/png": "[encoded data removed]",
      "text/plain": [
       "<Figure size 432x288 with 1 Axes>"
      ]
     },
     "metadata": {
      "tags": []
     },
     "output_type": "display_data"
    }
   ],
   "source": [
    "with tf.Session() as session:\n",
    "  session.run(init)\n",
    "  \n",
    "  for epoch in range(epochs):\n",
    "    for x, y in zip(x_train, y_train):\n",
    "      session.run(train, feed_dict={X: x, Y: y})\n",
    "      \n",
    "      \n",
    "    if not epoch % 20:\n",
    "      l = session.run(loss, feed_dict={X: x_train, Y: y_train})\n",
    "      w = session.run(W)\n",
    "      b = session.run(B)\n",
    "      print('epoch: ', epoch, '; loss: ', l, '; weight: ', w, '; bias: ', b)\n",
    "      \n",
    "    weight = session.run(W)\n",
    "    bias = session.run(B)\n",
    "    plt.plot(x_train, y_train, 'o')\n",
    "    plt.plot(x_train, weight * x_train + bias)\n",
    "    plt.show"
   ]
  },
  {
   "cell_type": "code",
   "execution_count": 0,
   "metadata": {
    "colab": {},
    "colab_type": "code",
    "id": "JqjmOvZAGvB8"
   },
   "outputs": [],
   "source": [
    ""
   ]
  }
 ],
 "metadata": {
  "colab": {
   "collapsed_sections": [],
   "name": "Linear Regression Tensorflow.ipynb",
   "provenance": [],
   "version": "0.3.2"
  },
  "kernelspec": {
   "display_name": "Python 3",
   "name": "python3"
  }
 },
 "nbformat": 4,
 "nbformat_minor": 0
}
