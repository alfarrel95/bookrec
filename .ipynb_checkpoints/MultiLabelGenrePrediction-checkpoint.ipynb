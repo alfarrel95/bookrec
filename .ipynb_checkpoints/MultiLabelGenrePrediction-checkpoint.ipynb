{
 "cells": [
  {
   "cell_type": "markdown",
   "metadata": {},
   "source": [
    "# Multi Label Classification"
   ]
  },
  {
   "cell_type": "markdown",
   "metadata": {},
   "source": [
    "In Multi Label Classification, an instance/record can have multiple labels and the number of labels per instance is not fixed."
   ]
  },
  {
   "cell_type": "markdown",
   "metadata": {},
   "source": [
    "Books are not one-dimensional. One book can span several genres. This code aims at predicting a list of genres, given the summary as a feature for each book."
   ]
  },
  {
   "cell_type": "markdown",
   "metadata": {},
   "source": [
    "Necssary Imports:"
   ]
  },
  {
   "cell_type": "code",
   "execution_count": 1,
   "metadata": {
    "colab": {},
    "colab_type": "code",
    "id": "7FEeYpGC6ll2"
   },
   "outputs": [],
   "source": [
    "import pandas as pd\n",
    "import numpy as np\n",
    "import json\n",
    "import nltk\n",
    "#nltk.download('stopwords')\n",
    "#nltk.download('punkt')\n",
    "#nltk.download('wordnet')\n",
    "from nltk.corpus import stopwords \n",
    "stop_words = set(stopwords.words('english'))\n",
    "from nltk.stem import WordNetLemmatizer\n",
    "from nltk.corpus import wordnet\n",
    "import re\n",
    "import csv\n",
    "import matplotlib.pyplot as plt \n",
    "import seaborn as sns\n",
    "from tqdm import tqdm\n",
    "from sklearn.feature_extraction.text import TfidfVectorizer\n",
    "from sklearn.model_selection import train_test_split\n",
    "from xml.etree import ElementTree\n",
    "import pickle\n",
    "import random\n",
    "from random import shuffle\n",
    "\n",
    "%matplotlib inline\n",
    "pd.set_option('display.max_colwidth', 300)"
   ]
  },
  {
   "cell_type": "markdown",
   "metadata": {},
   "source": [
    "Getting the Dataset:"
   ]
  },
  {
   "cell_type": "markdown",
   "metadata": {},
   "source": [
    "The dataset used is Blurb Genre Collection.\n",
    "Ref: https://www.inf.uni-hamburg.de/en/inst/ab/lt/resources/data/blurb-genre-collection.html\n",
    "\n",
    "The BlurbGenreCollection-EN is a dataset consisting of advertising descriptions of books - so called blurbs - for the English language. Each blurb is categorized into one or multiple categories. The categories are structured hierarchically.\n",
    "\n",
    "An example entry of the resulting datset is shown below:"
   ]
  },
  {
   "cell_type": "markdown",
   "metadata": {},
   "source": [
    "    <book date=\"2018-08-18\" xml:lang=\"en\">\n",
    "      <title>2001: a Space Odyssey</title>\n",
    "      <body>\n",
    "        The classic science fiction novel that captures and expands on the vision of Stanley Kubrick´s\n",
    "        immortal film-and changed the way we look at the stars and ourselves. From the savannas of Africa at the\n",
    "        dawn of mankind to the rings of Saturn as man ventures to the outer rim of our solar system, 2001: A\n",
    "        Space Odyssey is a journey unlike any other. This allegory about humanity´s exploration of the universe-and\n",
    "        the universe`s reaction to humanity-is a hallmark achievement in storytelling that follows the crew of the\n",
    "        spacecraft Discovery as they embark on a mission to Saturn. Their vessel is controlled by HAL 9000, an\n",
    "        artificially intelligent supercomputer capable of the highest level of cognitive functioning that\n",
    "        rivals-and perhaps threatens-the human mind. Grappling with space exploration, the perils of technology,\n",
    "        and the limits of human power, 2001: A Space Odyssey continues to be an enduring classic of cinematic\n",
    "        scope.\n",
    "      </body>\n",
    "      <copyright>(c) Penguin Random House</copyright>\n",
    "      <metadata>\n",
    "        <topics>\n",
    "          <d0>Fiction</d0>\n",
    "          <d1>Science Fiction</d1>\n",
    "          <d1>Mystery & Suspense</d1>\n",
    "          <d2>Suspense & Thriller</d2>\n",
    "        </topics>\n",
    "        <author>Arthur C. Clarke</author>\n",
    "        <published>Sep 01, 2000 </published>\n",
    "        <page_num> 320 Pages</page_num>\n",
    "        <isbn>9780451457998</isbn>\n",
    "        <url>https://www.penguinrandomhouse.com/books/325356/2001- a-space-odyssey-by-arthur-c-clarke/</url>\n",
    "      </metadata>\n",
    "    </book>"
   ]
  },
  {
   "cell_type": "code",
   "execution_count": 2,
   "metadata": {
    "colab": {},
    "colab_type": "code",
    "id": "2C8L3aYRPqaL"
   },
   "outputs": [],
   "source": [
    "def getDataFrame(filename):\n",
    "    dataset=[]\n",
    "    tree = ElementTree.parse(filename)\n",
    "    root = tree.getroot()\n",
    "\n",
    "    for book in root.findall('book'):\n",
    "        for metadata in book.find('metadata'):\n",
    "            x=metadata\n",
    "            break\n",
    "        a=[]\n",
    "        if(x.find('d3')!=None):\n",
    "            a.append(x.find('d3').text)\n",
    "        if(x.find('d2')!=None):\n",
    "            a.append(x.find('d2').text)\n",
    "        if(x.find('d1')!=None):\n",
    "            a.append(x.find('d1').text)\n",
    "        if(x.find('d0')!=None):\n",
    "            a.append(x.find('d0').text)\n",
    "\n",
    "        if len(a) != 0:        \n",
    "            dataset.append([book.find('title').text,a,book.find('body').text])\n",
    "    return dataset  \n",
    "\n",
    "dataset = getDataFrame('./BlurbGenreCollection_EN_train.xml')\n",
    "dataset2 = getDataFrame('./BlurbGenreCollection_EN_test.xml')\n",
    "dataset = dataset + dataset2"
   ]
  },
  {
   "cell_type": "markdown",
   "metadata": {},
   "source": [
    "Creating DataFrame from list of data:"
   ]
  },
  {
   "cell_type": "code",
   "execution_count": 3,
   "metadata": {
    "colab": {},
    "colab_type": "code",
    "id": "mQYrTJ3wPyP-"
   },
   "outputs": [],
   "source": [
    "df=pd.DataFrame(dataset,columns=['Name','Genres','Summary'])"
   ]
  },
  {
   "cell_type": "code",
   "execution_count": 4,
   "metadata": {
    "colab": {
     "base_uri": "https://localhost:8080/",
     "height": 754
    },
    "colab_type": "code",
    "id": "hfOPDsiJWx0a",
    "outputId": "bad54ebe-ec28-4820-891a-cc454561f1dd"
   },
   "outputs": [
    {
     "data": {
      "text/html": [
       "<div>\n",
       "<style scoped>\n",
       "    .dataframe tbody tr th:only-of-type {\n",
       "        vertical-align: middle;\n",
       "    }\n",
       "\n",
       "    .dataframe tbody tr th {\n",
       "        vertical-align: top;\n",
       "    }\n",
       "\n",
       "    .dataframe thead th {\n",
       "        text-align: right;\n",
       "    }\n",
       "</style>\n",
       "<table border=\"1\" class=\"dataframe\">\n",
       "  <thead>\n",
       "    <tr style=\"text-align: right;\">\n",
       "      <th></th>\n",
       "      <th>Name</th>\n",
       "      <th>Genres</th>\n",
       "      <th>Summary</th>\n",
       "    </tr>\n",
       "  </thead>\n",
       "  <tbody>\n",
       "    <tr>\n",
       "      <th>0</th>\n",
       "      <td>The New York Times Daily Crossword Puzzles: Thursday, Volume 1</td>\n",
       "      <td>[Games, Nonfiction]</td>\n",
       "      <td>Monday’s Crosswords Do with EaseTuesday’s Crosswords Not a BreezeWednesday’s Crosswords Harder StillThursday’s Crosswords Take Real SkillFriday’s Crosswords — You’ve Come This Far…Saturday’s Crosswords — You’re a Star!For millions of people, the New York Times crossword puzzles are as essential ...</td>\n",
       "    </tr>\n",
       "    <tr>\n",
       "      <th>1</th>\n",
       "      <td>Creatures of the Night (Second Edition)</td>\n",
       "      <td>[Graphic Novels and Manga, Fiction]</td>\n",
       "      <td>Two of literary comics modern masters present a pair of magical and disturbing stories of strange creatures who are not quite what they seem! In The Price, a mysterious feline engages in a nightly conflict with an unseen, vicious foe. The Daughter of Owls recounts an eerie tale of a beautiful or...</td>\n",
       "    </tr>\n",
       "    <tr>\n",
       "      <th>2</th>\n",
       "      <td>Cornelia and the Audacious Escapades of the Somerset Sisters</td>\n",
       "      <td>[Children’s Middle Grade Books, Children’s Books]</td>\n",
       "      <td>Eleven-year-old Cornelia is the daughter of two world-famous pianists—a legacy that should feel fabulous, but instead feels just plain lonely. She surrounds herself with dictionaries and other books to isolate herself from the outside world. But when a glamorous neighbor named Virginia Somerset ...</td>\n",
       "    </tr>\n",
       "    <tr>\n",
       "      <th>3</th>\n",
       "      <td>The Alchemist's Daughter</td>\n",
       "      <td>[Historical Fiction, Fiction]</td>\n",
       "      <td>During the English Age of Reason, a woman cloistered since birth learns that knowledge is no substitute for experience.Raised by her father in near isolation in the English countryside, Emilie Selden is trained as a brilliant natural philosopher and alchemist. In the spring of 1725, father and d...</td>\n",
       "    </tr>\n",
       "    <tr>\n",
       "      <th>4</th>\n",
       "      <td>Dangerous Boy</td>\n",
       "      <td>[Teen and Young Adult Mystery and Suspense, Teen and Young Adult]</td>\n",
       "      <td>A modern-day retelling of The Strange Case of Dr. Jekyll and Mr. Hyde with a chilling twist Harper has never been worried about falling in love, something she is skeptical even exists. But everything changes when Logan moves to town, and to Harper’s shock, the two tumble into an intense romance....</td>\n",
       "    </tr>\n",
       "    <tr>\n",
       "      <th>5</th>\n",
       "      <td>Mystery Mother (Replica #8)</td>\n",
       "      <td>[Children’s Middle Grade Books, Children’s Books]</td>\n",
       "      <td>Amy knows Nancy isn’t her birth mother, but she has raised Amy as her  own daughter. Then a woman shows up claiming to be Amy’s biological  mother. She’s got her own explanations about Amy’s special abilities and  wants Amy back. With doubts about her identity, Amy begins to dig  deeper into her...</td>\n",
       "    </tr>\n",
       "    <tr>\n",
       "      <th>6</th>\n",
       "      <td>The Woman Who Wouldn't Die</td>\n",
       "      <td>[Crime Mysteries, Mystery and Suspense, Fiction]</td>\n",
       "      <td>The long-awaited follow-up to 2011’s Slash andamp; Burn and the ninth installment in Colin Cotterill’s bestselling mystery series starring the inimitable Lao national coroner, Dr. Siri In a small Lao village, a very strange thing has happened. A woman was shot and killed in her bed during a burg...</td>\n",
       "    </tr>\n",
       "    <tr>\n",
       "      <th>7</th>\n",
       "      <td>The EC Archives: Two-Fisted Tales Volume 3</td>\n",
       "      <td>[Graphic Novels and Manga, Fiction]</td>\n",
       "      <td>Before Two-Fisted Tales burst onto the scene in 1950, war comics were largely unsophisticated, focusing only on action and adventure— wartime propaganda, essentially. But under the editorial direction of Harvey Kurtzman who also penned the majority of the stories herein, Two-Fisted Tales dared t...</td>\n",
       "    </tr>\n",
       "    <tr>\n",
       "      <th>8</th>\n",
       "      <td>The Complete Idiot's Guide to Intermediate Spanish, 2e</td>\n",
       "      <td>[Language, Reference, Nonfiction]</td>\n",
       "      <td>This revised edition offers expanded coverage of grammar and vocabulary, as well as idiomatic usage, irregular verbs, and conversational elements that will help readers improve their language skills in a variety of situations. In addition, a new workbook section specially designed to help reader...</td>\n",
       "    </tr>\n",
       "    <tr>\n",
       "      <th>9</th>\n",
       "      <td>Comic Sans Murder</td>\n",
       "      <td>[Cozy Mysteries, Mystery and Suspense, Fiction]</td>\n",
       "      <td>Clare Henry’s snowy Star City, Utah, oasis turns deadly in the third Dangerous Type Mystery from the New York Times bestselling author of Bookman Dead Style and To Helvetica and Back.   SOMETHING’S AFOOT….  The visit of quirky world-famous horror author Nathan Grimes to Star City is especially t...</td>\n",
       "    </tr>\n",
       "    <tr>\n",
       "      <th>10</th>\n",
       "      <td>Mysteries in Our National Parks: Out of the Deep</td>\n",
       "      <td>[Children’s Middle Grade Action and Adventure Books, Children’s Middle Grade Books, Children’s Books]</td>\n",
       "      <td>A baby whale is the latest mammal stranded on the beaches of Acadia National Park. When the Landons run to get help, they don’t notice Bindy Callister slip away. When they track her down, she’s acting strangeshe knows the strandings are no accident. She even knows those responsible. But she’s t...</td>\n",
       "    </tr>\n",
       "    <tr>\n",
       "      <th>11</th>\n",
       "      <td>The Strange Affair of Spring Heeled Jack</td>\n",
       "      <td>[Historical Fiction, Fiction]</td>\n",
       "      <td>London, 1861. Sir Richard Francis Burton – explorer, linguist, scholar, and swordsman; his reputation tarnished; his career in tatters; his former partner missing and probably dead. Algernon Charles Swinburne – unsuccessful poet and follower of de Sade, for whom pain is pleasure, and brandy is r...</td>\n",
       "    </tr>\n",
       "    <tr>\n",
       "      <th>12</th>\n",
       "      <td>Noragami: Stray God 15</td>\n",
       "      <td>[Graphic Novels and Manga, Fiction]</td>\n",
       "      <td>Matchmaker, matchmakerTensions are high between Kazuma and Yukiné, but that doesn’t stop Yato from wanting to go to his very first Divine Council. This council will include a matchmaking ceremony, where the gods choose soul mates for the mortals of Japan. What could this mean for Hiyori and her ...</td>\n",
       "    </tr>\n",
       "    <tr>\n",
       "      <th>13</th>\n",
       "      <td>The Immortal Highlander</td>\n",
       "      <td>[Romance, Fiction]</td>\n",
       "      <td>Enter a world of timeless seduction, of ancient intrigue and modern-day passion.   Enter the dazzling world of Karen Marie Moning, whose acclaimed Highlander novels   have captivated readers, spanning the continents and the centuries, bringing ancient   Scotland vividly to life.  In a novel brim...</td>\n",
       "    </tr>\n",
       "    <tr>\n",
       "      <th>14</th>\n",
       "      <td>The Secret Pearl</td>\n",
       "      <td>[Historical Romance, Romance, Fiction]</td>\n",
       "      <td>Mary Balogh has no equal when it comes to capturing the complex,  irresistible passions between men and women. Her classic novel, The Secret Pearl, is one of the New York Times bestselling author’s finest–a tale of temptation and seduction, of guarded hearts and raw emotion…and of a love so powe...</td>\n",
       "    </tr>\n",
       "    <tr>\n",
       "      <th>15</th>\n",
       "      <td>The Glass Devil</td>\n",
       "      <td>[Crime Mysteries, Mystery and Suspense, Fiction]</td>\n",
       "      <td>The fourth investigation in the nationally bestselling Swedish detective seriesWhen one of his teachers fails to show up for work, a high school principal calls his friend on the Göteborg police force. To Detective Inspector Irene Huss’s surprise, her boss takes thecomplaint seriously, even brin...</td>\n",
       "    </tr>\n",
       "    <tr>\n",
       "      <th>16</th>\n",
       "      <td>Women, Get Answers About Your Money</td>\n",
       "      <td>[Religion, Self-Improvement, Nonfiction]</td>\n",
       "      <td>Success Is Just Around Every Question Mark  Finally, the friendly comprehensive reference tool every woman is looking for has arrived. Find answers to all of your personal finance questions, from the simple (What’s a good credit score?) to the complex (What are my options in retirement planning?...</td>\n",
       "    </tr>\n",
       "    <tr>\n",
       "      <th>17</th>\n",
       "      <td>The Matchstick Castle</td>\n",
       "      <td>[Children’s Middle Grade Action and Adventure Books, Children’s Middle Grade Books, Children’s Books]</td>\n",
       "      <td>A wild and whimsical adventure story, perfect for fans of Escape from Mr. Lemoncello’s LibraryBrian can think of a few places he’d rather spend his summer than with his aunt and uncle in Boring, Illinois. Jail, for example. Or an earplug factory. Anything would be better than doing summer school...</td>\n",
       "    </tr>\n",
       "    <tr>\n",
       "      <th>18</th>\n",
       "      <td>The Poet of Baghdad</td>\n",
       "      <td>[Literary Fiction, Fiction]</td>\n",
       "      <td>In the winter of 1979 Nabeel Yasin, Iraq’s most famous young poet, gathered together a handful of belongings and fled Iraq with his wife and son.  Life in Baghdad had become intolerable.  Silenced by a series of brutal beatings at the hands of the Ba’ath Party’s Secret Police and declared an “en...</td>\n",
       "    </tr>\n",
       "    <tr>\n",
       "      <th>19</th>\n",
       "      <td>The Must-Have Mom Manual</td>\n",
       "      <td>[Parenting, Nonfiction]</td>\n",
       "      <td>Whether it is bottle- or breast-feeding, cribs or co-sleeping, getting back to the office or staying home with the kids, best friends Sara Ellington and Stephanie Triplett, the team behind the popular book and radio show The Mommy Chronicles, rarely choose the same option. Lucky for us, in The M...</td>\n",
       "    </tr>\n",
       "    <tr>\n",
       "      <th>20</th>\n",
       "      <td>Saving Francesca</td>\n",
       "      <td>[Teen and Young Adult Fiction, Teen and Young Adult]</td>\n",
       "      <td>Before there was Eleanor and Park, there was Francesca and Will.A compelling story of romance, family, and friendship, with humor and heart, perfect for fans of If I Stay, The Spectacular Now, and Looking for Alaska.Francesca is stuck at St. Sebastian’s, a boys’ school that pretends it’s coed by...</td>\n",
       "    </tr>\n",
       "    <tr>\n",
       "      <th>21</th>\n",
       "      <td>Eugene McCarthy</td>\n",
       "      <td>[20th Century U.S. History, U.S. History, Politics, Nonfiction]</td>\n",
       "      <td>Originally a New Deal liberal and aggressive anticommunist, Senator Eugene McCarthy famously lost faith with the Democratic party over Vietnam. His stunning challenge to Lyndon Johnson in the 1968 New Hampshire primary inspired young liberals and was one of the greatest electoral upsets in Ameri...</td>\n",
       "    </tr>\n",
       "    <tr>\n",
       "      <th>22</th>\n",
       "      <td>The Kingdom of Shivas Irons</td>\n",
       "      <td>[Fiction]</td>\n",
       "      <td>Michael Murphy’s Golf in the Kingdom is one of the bestselling golf books of all time and has been hailed as \"a golf classic if any exists in our day\" (John Updike) and \"a masterpiece on the mysticism of golf\" (San Francisco Chronicle).  Golf in the Kingdom introduced Shivas Irons, the mysteriou...</td>\n",
       "    </tr>\n",
       "    <tr>\n",
       "      <th>23</th>\n",
       "      <td>See What a Seal Can Do</td>\n",
       "      <td>[Children’s Books]</td>\n",
       "      <td>Follow a gray seal on a journey from sand to sea in an engaging, richly illustrated story with surefire kid appeal.On the shore, a seal looks like a slow, dozy creature that spends its time lazing around or flumping along the sand. But underwater, it’s a different story. Splash! Seal dives deep,...</td>\n",
       "    </tr>\n",
       "    <tr>\n",
       "      <th>24</th>\n",
       "      <td>The Toymaker's Apprentice</td>\n",
       "      <td>[Children’s Middle Grade Action and Adventure Books, Children’s Middle Grade Books, Children’s Books]</td>\n",
       "      <td>A gorgeously imagined Nutcracker retelling from award-winning author Sherri L. Smith.Stefan Drosselmeyer is a reluctant apprentice to his toymaker father until the day his world is turned upside down. His father is kidnapped and Stefan is enlisted by his mysterious cousin, Christian Drosselmeyer...</td>\n",
       "    </tr>\n",
       "    <tr>\n",
       "      <th>25</th>\n",
       "      <td>Thomas and Friends Character Encyclopedia</td>\n",
       "      <td>[Children’s Books]</td>\n",
       "      <td>The definitive guide to Thomas the Tank Engine and all your favorite friends from the Island of Sodor. Includes a mini train model and images of the the real-life trains the characters are based on.Learn all about Thomas the Tank Engine, Percy, James, Rosie, Gordon, and all the other Steamies, D...</td>\n",
       "    </tr>\n",
       "    <tr>\n",
       "      <th>26</th>\n",
       "      <td>Adventures for Your Soul</td>\n",
       "      <td>[Personal Growth, Health and Fitness, Nonfiction]</td>\n",
       "      <td>“An incredible woman on a mission to help people find peace,happiness, and fulfillment.” Gabrielle Bernstein, author of Miracles NowHave you ever felt like there’s something holding you back?Maybe that something is you . . . Sometimes the one thing you need to make a change is to see things from...</td>\n",
       "    </tr>\n",
       "    <tr>\n",
       "      <th>27</th>\n",
       "      <td>Panic in Pittsburgh</td>\n",
       "      <td>[Children’s Middle Grade Sports Books, Children’s Middle Grade Books, Children’s Books]</td>\n",
       "      <td>The Owls have been invited to Pittsburgh to compete in the biggest hockey tournament ever to be played on outdoor ice. The open-air tournament is to be held in the massive Heinz Field arena, home of football’s mighty Pittsburgh Steelers. But almost as soon as the tournament begins, Travis suffer...</td>\n",
       "    </tr>\n",
       "    <tr>\n",
       "      <th>28</th>\n",
       "      <td>Ripper</td>\n",
       "      <td>[Teen and Young Adult Historical Fiction, Teen and Young Adult]</td>\n",
       "      <td>Panic grips the city! There is a killer loose in New York City, and Carver Young is the only one who sees the startling connection between the recent string of murders and the most famous serial killer in history: Jack the Ripper. Time is winding down until the killer claims another victim, but ...</td>\n",
       "    </tr>\n",
       "    <tr>\n",
       "      <th>29</th>\n",
       "      <td>The BAP Handbook</td>\n",
       "      <td>[Reference, Humor]</td>\n",
       "      <td>\"Finally, a book about the Black American Princess!  If you’re already a BAP or just want to act like one, this book is for you!\"  — E. Lynn Harris, author of  Not a Day Goes ByIn the bestselling tradition of  The Official Preppy Handbook, here is a must-have manual for the BAP and those who lov...</td>\n",
       "    </tr>\n",
       "    <tr>\n",
       "      <th>...</th>\n",
       "      <td>...</td>\n",
       "      <td>...</td>\n",
       "      <td>...</td>\n",
       "    </tr>\n",
       "    <tr>\n",
       "      <th>77079</th>\n",
       "      <td>The Book of Color</td>\n",
       "      <td>[Literary Fiction, Fiction]</td>\n",
       "      <td>In the late 19th century, an English missionary arrives on a remote island in the Indian Ocean, intent on wiping our fornication among the natives. Instead he incurs a curse that strikes first his dark-skinned wife, then his son and grandson. But is the curse supernatural–or a white man’s guilty...</td>\n",
       "    </tr>\n",
       "    <tr>\n",
       "      <th>77080</th>\n",
       "      <td>The Magic Orange Tree</td>\n",
       "      <td>[Fairy Tales, Literary Fiction, Fiction]</td>\n",
       "      <td>When Diane Wolkstein, herself a well-known storyteller traveled throughout the Haitian countryside in search of stories, she harvested a rich collection of twenty-seven tales, each of which is illuminated by fascinating introductory notes. From orange trees growing at the command of a child to t...</td>\n",
       "    </tr>\n",
       "    <tr>\n",
       "      <th>77081</th>\n",
       "      <td>Insects</td>\n",
       "      <td>[Children’s Books]</td>\n",
       "      <td>Here are twenty-one sex-legged wonders from around the world—from the 22-inch-long Giant Stick Insect of Borneo to North America’s Western Pygmy Blue Butterfly, with a wingspan of just a half inch. Huge mandibles, tiny bumps, and other amazing adaptations—big and little—enable each kind of insec...</td>\n",
       "    </tr>\n",
       "    <tr>\n",
       "      <th>77082</th>\n",
       "      <td>Trail to Cottonwood Falls</td>\n",
       "      <td>[Western Fiction, Fiction]</td>\n",
       "      <td>A man embarks on a hazardous journey for both body and soul in this Ralph Compton western…Ed Wright earned his reputation as a capable and principled man from years of driving cattle—and from wearing a Ranger’s badge. The Texan wants nothing more than to drown his memories in bottle after bottle...</td>\n",
       "    </tr>\n",
       "    <tr>\n",
       "      <th>77083</th>\n",
       "      <td>Drawn from Nature</td>\n",
       "      <td>[Children’s Books]</td>\n",
       "      <td>An intricately crafted journey through four seasons of flora and faunaHelen Ahpornsiri’s intricate artwork transforms leaves, petals, and seeds into bounding hares, swooping swallows, and blossoming trees. Using nothing but pressed plants, this journey through the seasons captures the wonder and...</td>\n",
       "    </tr>\n",
       "    <tr>\n",
       "      <th>77084</th>\n",
       "      <td>The Night Before Kindergarten</td>\n",
       "      <td>[Children’s Books]</td>\n",
       "      <td>It’s the first day of school! Join the kids as they prepare for kindergarten, packing school supplies, posing for pictures, and the hardest part of all—saying good-bye to Mom and Dad. But maybe it won’t be so hard once they discover just how much fun kindergarten really is! Colorful illustration...</td>\n",
       "    </tr>\n",
       "    <tr>\n",
       "      <th>77085</th>\n",
       "      <td>Blind Spot</td>\n",
       "      <td>[Suspense and Thriller, Mystery and Suspense, Fiction]</td>\n",
       "      <td>Cold, hard evidence—a prosecutor’s dream, a defense attorney’s nightmare Criminal  defense lawyer Jackie Flowers got what she wished for…a high-profile murder case.  While defending entrepreneur Aaron Best in the grisly slaying of a millionaire’s  trophy wife, Jackie turns FBI profiling upside d...</td>\n",
       "    </tr>\n",
       "    <tr>\n",
       "      <th>77086</th>\n",
       "      <td>The Oregon Experiment</td>\n",
       "      <td>[Literary Fiction, Fiction]</td>\n",
       "      <td>Naomi and Scanlon Pratt are at the threshold of a new life. East Coast transplants to small-town Oregon, Scanlon has a position at the local university—teaching mass movements and domestic radicalism—and Naomi is pregnant with their first child. But everything changes when they meet Clay, a trou...</td>\n",
       "    </tr>\n",
       "    <tr>\n",
       "      <th>77087</th>\n",
       "      <td>The Quest of the Holy Grail</td>\n",
       "      <td>[Fairy Tales, Literary Fiction, Classics]</td>\n",
       "      <td>Composed by an unknown author in early thirteenth-century France, The Quest of the Holy Grail is a fusion of Arthurian legend and Christian symbolism, reinterpreting ancient Celtic myth as a profound spiritual fable. It recounts the quest of the knights of Camelot – the simple Perceval, the thou...</td>\n",
       "    </tr>\n",
       "    <tr>\n",
       "      <th>77088</th>\n",
       "      <td>The Complete Idiot's Guide to Couponing</td>\n",
       "      <td>[Personal Finance, Self-Improvement, Nonfiction]</td>\n",
       "      <td>• Combines couponing advice with up–to–date online coupon tips and a sensible approach</td>\n",
       "    </tr>\n",
       "    <tr>\n",
       "      <th>77089</th>\n",
       "      <td>Lone Wolf and Cub Volume 9: Echo of the Assassin</td>\n",
       "      <td>[Graphic Novels and Manga, Fiction]</td>\n",
       "      <td>Water, death, and angry ninja take the foreground in this exciting volume of the legendary Lone Wolf and Cub series! A pitiful ferryboat girl discovers the tragic ways of andamp;quot;A Wife of the Heart,andamp;quot; as the Lone Wolf, Ogami Itto, stands against the man she loves. In andamp;quot;W...</td>\n",
       "    </tr>\n",
       "    <tr>\n",
       "      <th>77090</th>\n",
       "      <td>Mr. Skinny</td>\n",
       "      <td>[Children’s Books]</td>\n",
       "      <td>Mr. Skinny is tall and thin, like a long sausage. For supper he will sometimes eat the world’s smallest sausage. He’s desperate to put on some weight, but his appetite is just too small! Can his friend Mr. Greedy help him?</td>\n",
       "    </tr>\n",
       "    <tr>\n",
       "      <th>77091</th>\n",
       "      <td>Yoga of the Subtle Body</td>\n",
       "      <td>[Philosophy, Health and Fitness, Nonfiction]</td>\n",
       "      <td>With his expert teachings, philosophical insights, and pragmatic imagery, world-class yoga instructor Tias Little turns the anatomy of the physical body into a tool for navigating the subtle body.If you spend considerable time doing yoga, you begin to see that it is about much more than just the...</td>\n",
       "    </tr>\n",
       "    <tr>\n",
       "      <th>77092</th>\n",
       "      <td>The Chronicles of Conan Volume 27: Sands Upon the Earth</td>\n",
       "      <td>[Graphic Novels and Manga, Fiction]</td>\n",
       "      <td>He is known as “The Great Devil”–Heku, warlord of the eastern kingdoms, commander of a horde likened to the sands upon the earth. More than conquest, Heku desires the return of his son, Kobe, once coldly given as a gift to a king but now Conan’s comrade and unwilling to return to his father’s ev...</td>\n",
       "    </tr>\n",
       "    <tr>\n",
       "      <th>77093</th>\n",
       "      <td>Mouroir</td>\n",
       "      <td>[Literary Fiction, Fiction]</td>\n",
       "      <td>Breytenbach composed this docu-dream during a period of incarceration. Mouroir (mourir: to die + miroir: mirror) is a ship of thought moving with its own hallucinatory logic through a sea of mythic images, protean characters and what the author describes as “landscapes and spaces beyond death, s...</td>\n",
       "    </tr>\n",
       "    <tr>\n",
       "      <th>77094</th>\n",
       "      <td>The Transformational Consumer</td>\n",
       "      <td>[Marketing, Business, Nonfiction]</td>\n",
       "      <td>The Transformational Consumer They are the most valuable, least understood customers of our time. They buy over $4 trillion in life-improving products and services every year. If you serve their deeply human need to continually improve their lives, they will eagerly engage with your brand at a t...</td>\n",
       "    </tr>\n",
       "    <tr>\n",
       "      <th>77095</th>\n",
       "      <td>Killer Heels</td>\n",
       "      <td>[Design, Arts and Entertainment, Nonfiction]</td>\n",
       "      <td>This gorgeous book explores the fashion world’s most coveted and iconic object—the high-heeled shoe. Killer Heels explores the rich cultural history of the high heel and its relation to power, fantasy, sexuality, and identity. More than 160 spectacular contemporary and historical shoe designs—fr...</td>\n",
       "    </tr>\n",
       "    <tr>\n",
       "      <th>77096</th>\n",
       "      <td>Against the Grain</td>\n",
       "      <td>[Fiction]</td>\n",
       "      <td>“FREEZE IS THE COLDEST NEW AUTHOR ON THE COME-UP.”–Nikki TurnerLove him or hate him, Arkadian “Kay” Frost has made his mark on the streets of Baltimore as the leader of a close-knit group of friends: Mike, the ladies’ man; Tank, the funny guy with a short fuse; Apache, the wild one with artiller...</td>\n",
       "    </tr>\n",
       "    <tr>\n",
       "      <th>77097</th>\n",
       "      <td>Radical Together</td>\n",
       "      <td>[Religion, Religion and Philosophy, Nonfiction]</td>\n",
       "      <td>New York Times bestsellerNew York Times bestselling author David Platt challenges us to unite around a gospel-centered vision in Radical Together. In Radical, David Platt’s plea for Christians to take back their faith from the American Dream resonated with readers everywhere. Now, he asks how a ...</td>\n",
       "    </tr>\n",
       "    <tr>\n",
       "      <th>77098</th>\n",
       "      <td>The Icarus Deception</td>\n",
       "      <td>[Personal Growth, Self-Improvement, Nonfiction]</td>\n",
       "      <td>In Seth Godin’s most inspiring book, he challenges readers to find the courage to treat their work as a form of artEveryone knows that Icarus’s father made him wings and told him not to fly too close to the sun; he ignored the warning and plunged to his doom. The lesson: Play it safe. Listen to ...</td>\n",
       "    </tr>\n",
       "    <tr>\n",
       "      <th>77099</th>\n",
       "      <td>Trial on Mount Koya</td>\n",
       "      <td>[Crime Mysteries, Mystery and Suspense, Fiction]</td>\n",
       "      <td>Master ninja Hiro Hattori and Jesuit Father Mateo head up to Mount Koya, only to find themselves embroiled in yet another mystery, this time in a Shingon Buddhist temple atop one of Japan’s most sacred peaks.November, 1565: Master ninja Hiro Hattori and Portuguese Jesuit Father Mateo travel to a...</td>\n",
       "    </tr>\n",
       "    <tr>\n",
       "      <th>77100</th>\n",
       "      <td>Brody's Ghost Volume 3</td>\n",
       "      <td>[Graphic Novels and Manga, Fiction]</td>\n",
       "      <td>Brody’s fight training, under the tutelage of samurai ghost Kagemura, has toughened his body and honed his senses so finely that Brody can not only communicate with ghosts, but envision how and when someone dies. However, his new skills aren’t quite powerful enough to uncover the whereabouts of ...</td>\n",
       "    </tr>\n",
       "    <tr>\n",
       "      <th>77101</th>\n",
       "      <td>Any Dream Will Do</td>\n",
       "      <td>[Contemporary Romance, Romance, Fiction]</td>\n",
       "      <td>#1 NEW YORK TIMES BESTSELLER • Debbie Macomber returns with a powerful standalone novel about a woman forced to start her life anew, embarking on the most courageous journey of all—to a place where she learns what love and trust really mean.   Shay Benson adored her younger brother, Caden, and t...</td>\n",
       "    </tr>\n",
       "    <tr>\n",
       "      <th>77102</th>\n",
       "      <td>The Hot Flash Club Chills Out</td>\n",
       "      <td>[Contemporary Romance, Romance, Fiction]</td>\n",
       "      <td>Since opening up their day spa, The Haven, the wonderful women of the Hot Flash Club have been busy indulging the beleaguered, nerve-frazzled throngs. Now, in Nancy Thayer’s hilarious new Hot Flash novel, it’s the friends’ turn to grab some soothing, and much-deserved Randamp;R.When a long-time ...</td>\n",
       "    </tr>\n",
       "    <tr>\n",
       "      <th>77103</th>\n",
       "      <td>The Whole Coconut Cookbook</td>\n",
       "      <td>[Cooking Methods, Cooking, Nonfiction]</td>\n",
       "      <td>This beautiful and inspiring recipe collection helps you incorporate nature’s perfect superfood—the coconut—into your everyday cooking. From tangy coconut yogurt for breakfast to creamy coconut curry for dinner, The Whole Coconut Cookbook showcases infinite ways to enjoy this nutrition-packed fr...</td>\n",
       "    </tr>\n",
       "    <tr>\n",
       "      <th>77104</th>\n",
       "      <td>Cathedral of the Sea</td>\n",
       "      <td>[Romance, Fiction]</td>\n",
       "      <td>An unforgettable fresco of a golden age in fourteenth-century Barcelona, Cathedral of the Sea is a thrilling historical novel of friendship and revenge, plague and hope, love and war.   Arnau Estanyol arrives in Barcelona to find a city dominated by the construction of the city’s great pride—the...</td>\n",
       "    </tr>\n",
       "    <tr>\n",
       "      <th>77105</th>\n",
       "      <td>Understanding the Messages of Your Body</td>\n",
       "      <td>[Alternative Therapies, Health and Fitness, Nonfiction]</td>\n",
       "      <td>Fears, anxieties, traumas, and physical and emotional shocks imprint on the body and remain dormant in its vast memory store until they are roused by an event or encounter. They may manifest in a different form or place—a fearful incident may transform itself into a stomachache or a headache, or...</td>\n",
       "    </tr>\n",
       "    <tr>\n",
       "      <th>77106</th>\n",
       "      <td>Knockout</td>\n",
       "      <td>[Alternative Therapies, Health and Fitness, Nonfiction]</td>\n",
       "      <td>In Knockout, Suzanne Somers interviews doctors who are successfully using the most innovative cancer treatments—treatments that build up the body rather than tear it down. Somers herself has stared cancer in the face, and a decade later she has conquered her fear and has emerged confident with t...</td>\n",
       "    </tr>\n",
       "    <tr>\n",
       "      <th>77107</th>\n",
       "      <td>The End of the Suburbs</td>\n",
       "      <td>[Domestic Politics, Politics, Nonfiction]</td>\n",
       "      <td>“The government in the past created one American Dream at the expense of almost all others: the dream of a house, a lawn, a picket fence, two children, and a car. But there is no single American Dream anymore.”For nearly 70 years, the suburbs were as American as apple pie. As the middle class ba...</td>\n",
       "    </tr>\n",
       "    <tr>\n",
       "      <th>77108</th>\n",
       "      <td>First Aid Fast for Babies and Children</td>\n",
       "      <td>[Parenting, Nonfiction]</td>\n",
       "      <td>An indispensable guide for all parents and caretakers that covers a wide range of childhood emergencies.From anaphylaxis to burns to severe bleeding and bruising, First Aid Fast for Babies and Children offers clear advice, and step-by-step photographs show you what to do.This revised and updated...</td>\n",
       "    </tr>\n",
       "  </tbody>\n",
       "</table>\n",
       "<p>77109 rows × 3 columns</p>\n",
       "</div>"
      ],
      "text/plain": [
       "                                                                 Name  \\\n",
       "0      The New York Times Daily Crossword Puzzles: Thursday, Volume 1   \n",
       "1                             Creatures of the Night (Second Edition)   \n",
       "2        Cornelia and the Audacious Escapades of the Somerset Sisters   \n",
       "3                                            The Alchemist's Daughter   \n",
       "4                                                       Dangerous Boy   \n",
       "5                                         Mystery Mother (Replica #8)   \n",
       "6                                          The Woman Who Wouldn't Die   \n",
       "7                          The EC Archives: Two-Fisted Tales Volume 3   \n",
       "8              The Complete Idiot's Guide to Intermediate Spanish, 2e   \n",
       "9                                                   Comic Sans Murder   \n",
       "10                   Mysteries in Our National Parks: Out of the Deep   \n",
       "11                           The Strange Affair of Spring Heeled Jack   \n",
       "12                                             Noragami: Stray God 15   \n",
       "13                                            The Immortal Highlander   \n",
       "14                                                   The Secret Pearl   \n",
       "15                                                    The Glass Devil   \n",
       "16                                Women, Get Answers About Your Money   \n",
       "17                                              The Matchstick Castle   \n",
       "18                                                The Poet of Baghdad   \n",
       "19                                           The Must-Have Mom Manual   \n",
       "20                                                   Saving Francesca   \n",
       "21                                                    Eugene McCarthy   \n",
       "22                                        The Kingdom of Shivas Irons   \n",
       "23                                             See What a Seal Can Do   \n",
       "24                                          The Toymaker's Apprentice   \n",
       "25                          Thomas and Friends Character Encyclopedia   \n",
       "26                                           Adventures for Your Soul   \n",
       "27                                                Panic in Pittsburgh   \n",
       "28                                                             Ripper   \n",
       "29                                                   The BAP Handbook   \n",
       "...                                                               ...   \n",
       "77079                                               The Book of Color   \n",
       "77080                                           The Magic Orange Tree   \n",
       "77081                                                         Insects   \n",
       "77082                                       Trail to Cottonwood Falls   \n",
       "77083                                               Drawn from Nature   \n",
       "77084                                   The Night Before Kindergarten   \n",
       "77085                                                      Blind Spot   \n",
       "77086                                           The Oregon Experiment   \n",
       "77087                                     The Quest of the Holy Grail   \n",
       "77088                         The Complete Idiot's Guide to Couponing   \n",
       "77089                Lone Wolf and Cub Volume 9: Echo of the Assassin   \n",
       "77090                                                      Mr. Skinny   \n",
       "77091                                         Yoga of the Subtle Body   \n",
       "77092         The Chronicles of Conan Volume 27: Sands Upon the Earth   \n",
       "77093                                                         Mouroir   \n",
       "77094                                   The Transformational Consumer   \n",
       "77095                                                    Killer Heels   \n",
       "77096                                               Against the Grain   \n",
       "77097                                                Radical Together   \n",
       "77098                                            The Icarus Deception   \n",
       "77099                                             Trial on Mount Koya   \n",
       "77100                                          Brody's Ghost Volume 3   \n",
       "77101                                               Any Dream Will Do   \n",
       "77102                                   The Hot Flash Club Chills Out   \n",
       "77103                                      The Whole Coconut Cookbook   \n",
       "77104                                            Cathedral of the Sea   \n",
       "77105                         Understanding the Messages of Your Body   \n",
       "77106                                                        Knockout   \n",
       "77107                                          The End of the Suburbs   \n",
       "77108                          First Aid Fast for Babies and Children   \n",
       "\n",
       "                                                                                                      Genres  \\\n",
       "0                                                                                        [Games, Nonfiction]   \n",
       "1                                                                        [Graphic Novels and Manga, Fiction]   \n",
       "2                                                          [Children’s Middle Grade Books, Children’s Books]   \n",
       "3                                                                              [Historical Fiction, Fiction]   \n",
       "4                                          [Teen and Young Adult Mystery and Suspense, Teen and Young Adult]   \n",
       "5                                                          [Children’s Middle Grade Books, Children’s Books]   \n",
       "6                                                           [Crime Mysteries, Mystery and Suspense, Fiction]   \n",
       "7                                                                        [Graphic Novels and Manga, Fiction]   \n",
       "8                                                                          [Language, Reference, Nonfiction]   \n",
       "9                                                            [Cozy Mysteries, Mystery and Suspense, Fiction]   \n",
       "10     [Children’s Middle Grade Action and Adventure Books, Children’s Middle Grade Books, Children’s Books]   \n",
       "11                                                                             [Historical Fiction, Fiction]   \n",
       "12                                                                       [Graphic Novels and Manga, Fiction]   \n",
       "13                                                                                        [Romance, Fiction]   \n",
       "14                                                                    [Historical Romance, Romance, Fiction]   \n",
       "15                                                          [Crime Mysteries, Mystery and Suspense, Fiction]   \n",
       "16                                                                  [Religion, Self-Improvement, Nonfiction]   \n",
       "17     [Children’s Middle Grade Action and Adventure Books, Children’s Middle Grade Books, Children’s Books]   \n",
       "18                                                                               [Literary Fiction, Fiction]   \n",
       "19                                                                                   [Parenting, Nonfiction]   \n",
       "20                                                      [Teen and Young Adult Fiction, Teen and Young Adult]   \n",
       "21                                           [20th Century U.S. History, U.S. History, Politics, Nonfiction]   \n",
       "22                                                                                                 [Fiction]   \n",
       "23                                                                                        [Children’s Books]   \n",
       "24     [Children’s Middle Grade Action and Adventure Books, Children’s Middle Grade Books, Children’s Books]   \n",
       "25                                                                                        [Children’s Books]   \n",
       "26                                                         [Personal Growth, Health and Fitness, Nonfiction]   \n",
       "27                   [Children’s Middle Grade Sports Books, Children’s Middle Grade Books, Children’s Books]   \n",
       "28                                           [Teen and Young Adult Historical Fiction, Teen and Young Adult]   \n",
       "29                                                                                        [Reference, Humor]   \n",
       "...                                                                                                      ...   \n",
       "77079                                                                            [Literary Fiction, Fiction]   \n",
       "77080                                                               [Fairy Tales, Literary Fiction, Fiction]   \n",
       "77081                                                                                     [Children’s Books]   \n",
       "77082                                                                             [Western Fiction, Fiction]   \n",
       "77083                                                                                     [Children’s Books]   \n",
       "77084                                                                                     [Children’s Books]   \n",
       "77085                                                 [Suspense and Thriller, Mystery and Suspense, Fiction]   \n",
       "77086                                                                            [Literary Fiction, Fiction]   \n",
       "77087                                                              [Fairy Tales, Literary Fiction, Classics]   \n",
       "77088                                                       [Personal Finance, Self-Improvement, Nonfiction]   \n",
       "77089                                                                    [Graphic Novels and Manga, Fiction]   \n",
       "77090                                                                                     [Children’s Books]   \n",
       "77091                                                           [Philosophy, Health and Fitness, Nonfiction]   \n",
       "77092                                                                    [Graphic Novels and Manga, Fiction]   \n",
       "77093                                                                            [Literary Fiction, Fiction]   \n",
       "77094                                                                      [Marketing, Business, Nonfiction]   \n",
       "77095                                                           [Design, Arts and Entertainment, Nonfiction]   \n",
       "77096                                                                                              [Fiction]   \n",
       "77097                                                        [Religion, Religion and Philosophy, Nonfiction]   \n",
       "77098                                                        [Personal Growth, Self-Improvement, Nonfiction]   \n",
       "77099                                                       [Crime Mysteries, Mystery and Suspense, Fiction]   \n",
       "77100                                                                    [Graphic Novels and Manga, Fiction]   \n",
       "77101                                                               [Contemporary Romance, Romance, Fiction]   \n",
       "77102                                                               [Contemporary Romance, Romance, Fiction]   \n",
       "77103                                                                 [Cooking Methods, Cooking, Nonfiction]   \n",
       "77104                                                                                     [Romance, Fiction]   \n",
       "77105                                                [Alternative Therapies, Health and Fitness, Nonfiction]   \n",
       "77106                                                [Alternative Therapies, Health and Fitness, Nonfiction]   \n",
       "77107                                                              [Domestic Politics, Politics, Nonfiction]   \n",
       "77108                                                                                [Parenting, Nonfiction]   \n",
       "\n",
       "                                                                                                                                                                                                                                                                                                           Summary  \n",
       "0      Monday’s Crosswords Do with EaseTuesday’s Crosswords Not a BreezeWednesday’s Crosswords Harder StillThursday’s Crosswords Take Real SkillFriday’s Crosswords — You’ve Come This Far…Saturday’s Crosswords — You’re a Star!For millions of people, the New York Times crossword puzzles are as essential ...  \n",
       "1      Two of literary comics modern masters present a pair of magical and disturbing stories of strange creatures who are not quite what they seem! In The Price, a mysterious feline engages in a nightly conflict with an unseen, vicious foe. The Daughter of Owls recounts an eerie tale of a beautiful or...  \n",
       "2      Eleven-year-old Cornelia is the daughter of two world-famous pianists—a legacy that should feel fabulous, but instead feels just plain lonely. She surrounds herself with dictionaries and other books to isolate herself from the outside world. But when a glamorous neighbor named Virginia Somerset ...  \n",
       "3      During the English Age of Reason, a woman cloistered since birth learns that knowledge is no substitute for experience.Raised by her father in near isolation in the English countryside, Emilie Selden is trained as a brilliant natural philosopher and alchemist. In the spring of 1725, father and d...  \n",
       "4      A modern-day retelling of The Strange Case of Dr. Jekyll and Mr. Hyde with a chilling twist Harper has never been worried about falling in love, something she is skeptical even exists. But everything changes when Logan moves to town, and to Harper’s shock, the two tumble into an intense romance....  \n",
       "5      Amy knows Nancy isn’t her birth mother, but she has raised Amy as her  own daughter. Then a woman shows up claiming to be Amy’s biological  mother. She’s got her own explanations about Amy’s special abilities and  wants Amy back. With doubts about her identity, Amy begins to dig  deeper into her...  \n",
       "6      The long-awaited follow-up to 2011’s Slash andamp; Burn and the ninth installment in Colin Cotterill’s bestselling mystery series starring the inimitable Lao national coroner, Dr. Siri In a small Lao village, a very strange thing has happened. A woman was shot and killed in her bed during a burg...  \n",
       "7      Before Two-Fisted Tales burst onto the scene in 1950, war comics were largely unsophisticated, focusing only on action and adventure— wartime propaganda, essentially. But under the editorial direction of Harvey Kurtzman who also penned the majority of the stories herein, Two-Fisted Tales dared t...  \n",
       "8      This revised edition offers expanded coverage of grammar and vocabulary, as well as idiomatic usage, irregular verbs, and conversational elements that will help readers improve their language skills in a variety of situations. In addition, a new workbook section specially designed to help reader...  \n",
       "9      Clare Henry’s snowy Star City, Utah, oasis turns deadly in the third Dangerous Type Mystery from the New York Times bestselling author of Bookman Dead Style and To Helvetica and Back.   SOMETHING’S AFOOT….  The visit of quirky world-famous horror author Nathan Grimes to Star City is especially t...  \n",
       "10     A baby whale is the latest mammal stranded on the beaches of Acadia National Park. When the Landons run to get help, they don’t notice Bindy Callister slip away. When they track her down, she’s acting strangeshe knows the strandings are no accident. She even knows those responsible. But she’s t...  \n",
       "11     London, 1861. Sir Richard Francis Burton – explorer, linguist, scholar, and swordsman; his reputation tarnished; his career in tatters; his former partner missing and probably dead. Algernon Charles Swinburne – unsuccessful poet and follower of de Sade, for whom pain is pleasure, and brandy is r...  \n",
       "12     Matchmaker, matchmakerTensions are high between Kazuma and Yukiné, but that doesn’t stop Yato from wanting to go to his very first Divine Council. This council will include a matchmaking ceremony, where the gods choose soul mates for the mortals of Japan. What could this mean for Hiyori and her ...  \n",
       "13     Enter a world of timeless seduction, of ancient intrigue and modern-day passion.   Enter the dazzling world of Karen Marie Moning, whose acclaimed Highlander novels   have captivated readers, spanning the continents and the centuries, bringing ancient   Scotland vividly to life.  In a novel brim...  \n",
       "14     Mary Balogh has no equal when it comes to capturing the complex,  irresistible passions between men and women. Her classic novel, The Secret Pearl, is one of the New York Times bestselling author’s finest–a tale of temptation and seduction, of guarded hearts and raw emotion…and of a love so powe...  \n",
       "15     The fourth investigation in the nationally bestselling Swedish detective seriesWhen one of his teachers fails to show up for work, a high school principal calls his friend on the Göteborg police force. To Detective Inspector Irene Huss’s surprise, her boss takes thecomplaint seriously, even brin...  \n",
       "16     Success Is Just Around Every Question Mark  Finally, the friendly comprehensive reference tool every woman is looking for has arrived. Find answers to all of your personal finance questions, from the simple (What’s a good credit score?) to the complex (What are my options in retirement planning?...  \n",
       "17     A wild and whimsical adventure story, perfect for fans of Escape from Mr. Lemoncello’s LibraryBrian can think of a few places he’d rather spend his summer than with his aunt and uncle in Boring, Illinois. Jail, for example. Or an earplug factory. Anything would be better than doing summer school...  \n",
       "18     In the winter of 1979 Nabeel Yasin, Iraq’s most famous young poet, gathered together a handful of belongings and fled Iraq with his wife and son.  Life in Baghdad had become intolerable.  Silenced by a series of brutal beatings at the hands of the Ba’ath Party’s Secret Police and declared an “en...  \n",
       "19     Whether it is bottle- or breast-feeding, cribs or co-sleeping, getting back to the office or staying home with the kids, best friends Sara Ellington and Stephanie Triplett, the team behind the popular book and radio show The Mommy Chronicles, rarely choose the same option. Lucky for us, in The M...  \n",
       "20     Before there was Eleanor and Park, there was Francesca and Will.A compelling story of romance, family, and friendship, with humor and heart, perfect for fans of If I Stay, The Spectacular Now, and Looking for Alaska.Francesca is stuck at St. Sebastian’s, a boys’ school that pretends it’s coed by...  \n",
       "21     Originally a New Deal liberal and aggressive anticommunist, Senator Eugene McCarthy famously lost faith with the Democratic party over Vietnam. His stunning challenge to Lyndon Johnson in the 1968 New Hampshire primary inspired young liberals and was one of the greatest electoral upsets in Ameri...  \n",
       "22     Michael Murphy’s Golf in the Kingdom is one of the bestselling golf books of all time and has been hailed as \"a golf classic if any exists in our day\" (John Updike) and \"a masterpiece on the mysticism of golf\" (San Francisco Chronicle).  Golf in the Kingdom introduced Shivas Irons, the mysteriou...  \n",
       "23     Follow a gray seal on a journey from sand to sea in an engaging, richly illustrated story with surefire kid appeal.On the shore, a seal looks like a slow, dozy creature that spends its time lazing around or flumping along the sand. But underwater, it’s a different story. Splash! Seal dives deep,...  \n",
       "24     A gorgeously imagined Nutcracker retelling from award-winning author Sherri L. Smith.Stefan Drosselmeyer is a reluctant apprentice to his toymaker father until the day his world is turned upside down. His father is kidnapped and Stefan is enlisted by his mysterious cousin, Christian Drosselmeyer...  \n",
       "25     The definitive guide to Thomas the Tank Engine and all your favorite friends from the Island of Sodor. Includes a mini train model and images of the the real-life trains the characters are based on.Learn all about Thomas the Tank Engine, Percy, James, Rosie, Gordon, and all the other Steamies, D...  \n",
       "26     “An incredible woman on a mission to help people find peace,happiness, and fulfillment.” Gabrielle Bernstein, author of Miracles NowHave you ever felt like there’s something holding you back?Maybe that something is you . . . Sometimes the one thing you need to make a change is to see things from...  \n",
       "27     The Owls have been invited to Pittsburgh to compete in the biggest hockey tournament ever to be played on outdoor ice. The open-air tournament is to be held in the massive Heinz Field arena, home of football’s mighty Pittsburgh Steelers. But almost as soon as the tournament begins, Travis suffer...  \n",
       "28     Panic grips the city! There is a killer loose in New York City, and Carver Young is the only one who sees the startling connection between the recent string of murders and the most famous serial killer in history: Jack the Ripper. Time is winding down until the killer claims another victim, but ...  \n",
       "29     \"Finally, a book about the Black American Princess!  If you’re already a BAP or just want to act like one, this book is for you!\"  — E. Lynn Harris, author of  Not a Day Goes ByIn the bestselling tradition of  The Official Preppy Handbook, here is a must-have manual for the BAP and those who lov...  \n",
       "...                                                                                                                                                                                                                                                                                                            ...  \n",
       "77079  In the late 19th century, an English missionary arrives on a remote island in the Indian Ocean, intent on wiping our fornication among the natives. Instead he incurs a curse that strikes first his dark-skinned wife, then his son and grandson. But is the curse supernatural–or a white man’s guilty...  \n",
       "77080  When Diane Wolkstein, herself a well-known storyteller traveled throughout the Haitian countryside in search of stories, she harvested a rich collection of twenty-seven tales, each of which is illuminated by fascinating introductory notes. From orange trees growing at the command of a child to t...  \n",
       "77081  Here are twenty-one sex-legged wonders from around the world—from the 22-inch-long Giant Stick Insect of Borneo to North America’s Western Pygmy Blue Butterfly, with a wingspan of just a half inch. Huge mandibles, tiny bumps, and other amazing adaptations—big and little—enable each kind of insec...  \n",
       "77082  A man embarks on a hazardous journey for both body and soul in this Ralph Compton western…Ed Wright earned his reputation as a capable and principled man from years of driving cattle—and from wearing a Ranger’s badge. The Texan wants nothing more than to drown his memories in bottle after bottle...  \n",
       "77083  An intricately crafted journey through four seasons of flora and faunaHelen Ahpornsiri’s intricate artwork transforms leaves, petals, and seeds into bounding hares, swooping swallows, and blossoming trees. Using nothing but pressed plants, this journey through the seasons captures the wonder and...  \n",
       "77084  It’s the first day of school! Join the kids as they prepare for kindergarten, packing school supplies, posing for pictures, and the hardest part of all—saying good-bye to Mom and Dad. But maybe it won’t be so hard once they discover just how much fun kindergarten really is! Colorful illustration...  \n",
       "77085  Cold, hard evidence—a prosecutor’s dream, a defense attorney’s nightmare Criminal  defense lawyer Jackie Flowers got what she wished for…a high-profile murder case.  While defending entrepreneur Aaron Best in the grisly slaying of a millionaire’s  trophy wife, Jackie turns FBI profiling upside d...  \n",
       "77086  Naomi and Scanlon Pratt are at the threshold of a new life. East Coast transplants to small-town Oregon, Scanlon has a position at the local university—teaching mass movements and domestic radicalism—and Naomi is pregnant with their first child. But everything changes when they meet Clay, a trou...  \n",
       "77087  Composed by an unknown author in early thirteenth-century France, The Quest of the Holy Grail is a fusion of Arthurian legend and Christian symbolism, reinterpreting ancient Celtic myth as a profound spiritual fable. It recounts the quest of the knights of Camelot – the simple Perceval, the thou...  \n",
       "77088                                                                                                                                                                                                                       • Combines couponing advice with up–to–date online coupon tips and a sensible approach  \n",
       "77089  Water, death, and angry ninja take the foreground in this exciting volume of the legendary Lone Wolf and Cub series! A pitiful ferryboat girl discovers the tragic ways of andamp;quot;A Wife of the Heart,andamp;quot; as the Lone Wolf, Ogami Itto, stands against the man she loves. In andamp;quot;W...  \n",
       "77090                                                                               Mr. Skinny is tall and thin, like a long sausage. For supper he will sometimes eat the world’s smallest sausage. He’s desperate to put on some weight, but his appetite is just too small! Can his friend Mr. Greedy help him?  \n",
       "77091  With his expert teachings, philosophical insights, and pragmatic imagery, world-class yoga instructor Tias Little turns the anatomy of the physical body into a tool for navigating the subtle body.If you spend considerable time doing yoga, you begin to see that it is about much more than just the...  \n",
       "77092  He is known as “The Great Devil”–Heku, warlord of the eastern kingdoms, commander of a horde likened to the sands upon the earth. More than conquest, Heku desires the return of his son, Kobe, once coldly given as a gift to a king but now Conan’s comrade and unwilling to return to his father’s ev...  \n",
       "77093  Breytenbach composed this docu-dream during a period of incarceration. Mouroir (mourir: to die + miroir: mirror) is a ship of thought moving with its own hallucinatory logic through a sea of mythic images, protean characters and what the author describes as “landscapes and spaces beyond death, s...  \n",
       "77094  The Transformational Consumer They are the most valuable, least understood customers of our time. They buy over $4 trillion in life-improving products and services every year. If you serve their deeply human need to continually improve their lives, they will eagerly engage with your brand at a t...  \n",
       "77095  This gorgeous book explores the fashion world’s most coveted and iconic object—the high-heeled shoe. Killer Heels explores the rich cultural history of the high heel and its relation to power, fantasy, sexuality, and identity. More than 160 spectacular contemporary and historical shoe designs—fr...  \n",
       "77096  “FREEZE IS THE COLDEST NEW AUTHOR ON THE COME-UP.”–Nikki TurnerLove him or hate him, Arkadian “Kay” Frost has made his mark on the streets of Baltimore as the leader of a close-knit group of friends: Mike, the ladies’ man; Tank, the funny guy with a short fuse; Apache, the wild one with artiller...  \n",
       "77097  New York Times bestsellerNew York Times bestselling author David Platt challenges us to unite around a gospel-centered vision in Radical Together. In Radical, David Platt’s plea for Christians to take back their faith from the American Dream resonated with readers everywhere. Now, he asks how a ...  \n",
       "77098  In Seth Godin’s most inspiring book, he challenges readers to find the courage to treat their work as a form of artEveryone knows that Icarus’s father made him wings and told him not to fly too close to the sun; he ignored the warning and plunged to his doom. The lesson: Play it safe. Listen to ...  \n",
       "77099  Master ninja Hiro Hattori and Jesuit Father Mateo head up to Mount Koya, only to find themselves embroiled in yet another mystery, this time in a Shingon Buddhist temple atop one of Japan’s most sacred peaks.November, 1565: Master ninja Hiro Hattori and Portuguese Jesuit Father Mateo travel to a...  \n",
       "77100  Brody’s fight training, under the tutelage of samurai ghost Kagemura, has toughened his body and honed his senses so finely that Brody can not only communicate with ghosts, but envision how and when someone dies. However, his new skills aren’t quite powerful enough to uncover the whereabouts of ...  \n",
       "77101  #1 NEW YORK TIMES BESTSELLER • Debbie Macomber returns with a powerful standalone novel about a woman forced to start her life anew, embarking on the most courageous journey of all—to a place where she learns what love and trust really mean.   Shay Benson adored her younger brother, Caden, and t...  \n",
       "77102  Since opening up their day spa, The Haven, the wonderful women of the Hot Flash Club have been busy indulging the beleaguered, nerve-frazzled throngs. Now, in Nancy Thayer’s hilarious new Hot Flash novel, it’s the friends’ turn to grab some soothing, and much-deserved Randamp;R.When a long-time ...  \n",
       "77103  This beautiful and inspiring recipe collection helps you incorporate nature’s perfect superfood—the coconut—into your everyday cooking. From tangy coconut yogurt for breakfast to creamy coconut curry for dinner, The Whole Coconut Cookbook showcases infinite ways to enjoy this nutrition-packed fr...  \n",
       "77104  An unforgettable fresco of a golden age in fourteenth-century Barcelona, Cathedral of the Sea is a thrilling historical novel of friendship and revenge, plague and hope, love and war.   Arnau Estanyol arrives in Barcelona to find a city dominated by the construction of the city’s great pride—the...  \n",
       "77105  Fears, anxieties, traumas, and physical and emotional shocks imprint on the body and remain dormant in its vast memory store until they are roused by an event or encounter. They may manifest in a different form or place—a fearful incident may transform itself into a stomachache or a headache, or...  \n",
       "77106  In Knockout, Suzanne Somers interviews doctors who are successfully using the most innovative cancer treatments—treatments that build up the body rather than tear it down. Somers herself has stared cancer in the face, and a decade later she has conquered her fear and has emerged confident with t...  \n",
       "77107  “The government in the past created one American Dream at the expense of almost all others: the dream of a house, a lawn, a picket fence, two children, and a car. But there is no single American Dream anymore.”For nearly 70 years, the suburbs were as American as apple pie. As the middle class ba...  \n",
       "77108  An indispensable guide for all parents and caretakers that covers a wide range of childhood emergencies.From anaphylaxis to burns to severe bleeding and bruising, First Aid Fast for Babies and Children offers clear advice, and step-by-step photographs show you what to do.This revised and updated...  \n",
       "\n",
       "[77109 rows x 3 columns]"
      ]
     },
     "execution_count": 4,
     "metadata": {},
     "output_type": "execute_result"
    }
   ],
   "source": [
    "df"
   ]
  },
  {
   "cell_type": "code",
   "execution_count": 5,
   "metadata": {},
   "outputs": [],
   "source": [
    "genre_count = {}\n",
    "def draw_genre_plot(df):\n",
    "    global genre_count\n",
    "    genre_count = {}\n",
    "    for index,row in df.iterrows():\n",
    "        genres = row[\"Genres\"]\n",
    "        for g in genres:\n",
    "            try:\n",
    "                genre_count[g] += 1\n",
    "            except:\n",
    "                genre_count[g] = 1\n",
    "                \n",
    "    print(\"Total unique genres:\", len(genre_count.keys()))\n",
    "    genre_count_dist = nltk.FreqDist(genre_count) \n",
    "    genre_count_df = pd.DataFrame({'Genre': list(genre_count_dist.keys()), \n",
    "                                  'Count': list(genre_count_dist.values())})\n",
    "    g = genre_count_df.nlargest(columns=\"Count\", n = 50) \n",
    "    plt.figure(figsize=(12,15)) \n",
    "    ax = sns.barplot(data=g, x= \"Count\", y = \"Genre\") \n",
    "    ax.set(ylabel = 'Count') \n",
    "    plt.show()"
   ]
  },
  {
   "cell_type": "markdown",
   "metadata": {},
   "source": [
    "Our current genre distribution is as shown:"
   ]
  },
  {
   "cell_type": "code",
   "execution_count": 6,
   "metadata": {},
   "outputs": [
    {
     "name": "stdout",
     "output_type": "stream",
     "text": [
      "Total unique genres: 139\n"
     ]
    },
    {
     "data": {
      "image/png": "[encoded data removed]",
      "text/plain": [
       "<Figure size 864x1080 with 1 Axes>"
      ]
     },
     "metadata": {
      "needs_background": "light"
     },
     "output_type": "display_data"
    }
   ],
   "source": [
    "draw_genre_plot(df)"
   ]
  },
  {
   "cell_type": "markdown",
   "metadata": {},
   "source": [
    "For better data distribution, we did data augmentation.\n",
    "\n",
    "Data augmentation is a strategy that enables practitioners to significantly increase the diversity of data available for training models, without actually collecting new data."
   ]
  },
  {
   "cell_type": "code",
   "execution_count": 7,
   "metadata": {},
   "outputs": [],
   "source": [
    "def printProgressBar (iteration, total, prefix = '', suffix = '', decimals = 1, length = 100, fill = '█', printEnd = \"\\r\"):\n",
    "    \"\"\"\n",
    "    Call in a loop to create terminal progress bar\n",
    "    @params:\n",
    "        iteration   - Required  : current iteration (Int)\n",
    "        total       - Required  : total iterations (Int)\n",
    "        prefix      - Optional  : prefix string (Str)\n",
    "        suffix      - Optional  : suffix string (Str)\n",
    "        decimals    - Optional  : positive number of decimals in percent complete (Int)\n",
    "        length      - Optional  : character length of bar (Int)\n",
    "        fill        - Optional  : bar fill character (Str)\n",
    "        printEnd    - Optional  : end character (e.g. \"\\r\", \"\\r\\n\") (Str)\n",
    "    \"\"\"\n",
    "    percent = (\"{0:.\" + str(decimals) + \"f}\").format(100 * (iteration / float(total)))\n",
    "    filledLength = int(length * iteration // total)\n",
    "    bar = fill * filledLength + '-' * (length - filledLength)\n",
    "    print('\\r%s |%s| %s%% %s' % (prefix, bar, percent, suffix), end = printEnd)\n",
    "    # Print New Line on Complete\n",
    "    if iteration == total: \n",
    "        print()"
   ]
  },
  {
   "cell_type": "markdown",
   "metadata": {},
   "source": [
    "Functions for Data Augmentation:"
   ]
  },
  {
   "cell_type": "code",
   "execution_count": 8,
   "metadata": {},
   "outputs": [],
   "source": [
    "def synonym_replacement(words, n):\n",
    "    new_words = words.copy()\n",
    "    random_word_list = list(set([word for word in words if word not in stop_words]))\n",
    "    random.shuffle(random_word_list)\n",
    "    num_replaced = 0\n",
    "    for random_word in random_word_list:\n",
    "        synonyms = get_synonyms(random_word)\n",
    "        if len(synonyms) >= 1:\n",
    "            synonym = random.choice(list(synonyms))\n",
    "            new_words = [synonym if word == random_word else word for word in new_words]\n",
    "            num_replaced += 1\n",
    "        if num_replaced >= n: \n",
    "            break\n",
    "\n",
    "    sentence = ' '.join(new_words)\n",
    "    new_words = sentence.split(' ')\n",
    "\n",
    "    return new_words"
   ]
  },
  {
   "cell_type": "code",
   "execution_count": 9,
   "metadata": {},
   "outputs": [],
   "source": [
    "def get_synonyms(word):\n",
    "    synonyms = set()\n",
    "    for syn in wordnet.synsets(word): \n",
    "        for l in syn.lemmas(): \n",
    "            synonym = l.name().replace(\"_\", \" \").replace(\"-\", \" \").lower()\n",
    "            synonym = \"\".join([char for char in synonym if char in ' qwertyuiopasdfghjklzxcvbnm'])\n",
    "            synonyms.add(synonym) \n",
    "    if word in synonyms:\n",
    "        synonyms.remove(word)\n",
    "    return list(synonyms)"
   ]
  },
  {
   "cell_type": "code",
   "execution_count": 10,
   "metadata": {},
   "outputs": [],
   "source": [
    "def applysynonym(row):\n",
    "    words = nltk.word_tokenize(row)\n",
    "    n = len(words)\n",
    "    res = synonym_replacement(words,n//10)\n",
    "    return ' '.join(res)"
   ]
  },
  {
   "cell_type": "markdown",
   "metadata": {},
   "source": [
    "def augmentdata(n):\n",
    "    global df\n",
    "    temp = []\n",
    "    for index,row in df.iterrows():\n",
    "        if 'Fiction' not in row['Genres']:\n",
    "            temp.append(row)\n",
    "            printProgressBar(index + 1, len(df), prefix = 'Creating temp:', suffix = 'Complete', length = 50)\n",
    "    temp = pd.DataFrame(temp,columns=['Name','Genres','Summary'])\n",
    "    t1 = temp\n",
    "    for i in range(n):\n",
    "        t1.Summary = temp.Summary.apply(applysynonym)\n",
    "        df = df.append(t1,ignore_index=True)\n",
    "        printProgressBar(i + 1, n, prefix = 'Augmenting data:', suffix = 'Complete', length = 50)\n",
    "    return"
   ]
  },
  {
   "cell_type": "code",
   "execution_count": 11,
   "metadata": {},
   "outputs": [],
   "source": [
    "def augmentdata(row, n):\n",
    "    global df\n",
    "    t1 = row\n",
    "    for i in range(n):\n",
    "        t1.Summary = applysynonym(row.Summary)\n",
    "        df = df.append(t1,ignore_index=True)\n",
    "    return"
   ]
  },
  {
   "cell_type": "code",
   "execution_count": 12,
   "metadata": {},
   "outputs": [],
   "source": [
    "def do_augmentation():\n",
    "    global df\n",
    "    global genre_count\n",
    "    len_df = len(df)\n",
    "    for index,row in df.iterrows():\n",
    "        genres = row.Genres\n",
    "        append_data = True\n",
    "        for g in genres:\n",
    "            if genre_count[g] >= 20000:\n",
    "                append_data = False\n",
    "                break\n",
    "        if append_data:\n",
    "            augmentdata(row, 10)\n",
    "            for g2 in genres:\n",
    "                genre_count[g2] += 10\n",
    "        printProgressBar(index + 1, len_df, prefix = 'Augmenting data:', suffix = 'Complete', length = 50)"
   ]
  },
  {
   "cell_type": "code",
   "execution_count": 13,
   "metadata": {},
   "outputs": [
    {
     "name": "stdout",
     "output_type": "stream",
     "text": [
      "Augmenting data: |██████████████████████████████████████████████████| 100.0% Complete\n",
      "Augmenting data: |██████████████████████████████████████████████████| 100.0% Complete\n",
      "Augmenting data: |██████████████████████████████████████████████████| 100.0% Complete\n"
     ]
    }
   ],
   "source": [
    "for i in range(5):\n",
    "    do_augmentation()"
   ]
  },
  {
   "cell_type": "markdown",
   "metadata": {},
   "source": [
    "The distribution of data after data augmentation:"
   ]
  },
  {
   "cell_type": "code",
   "execution_count": 14,
   "metadata": {},
   "outputs": [
    {
     "name": "stdout",
     "output_type": "stream",
     "text": [
      "Total unique genres: 139\n"
     ]
    },
    {
     "data": {
      "image/png": "[encoded data removed]",
      "text/plain": [
       "<Figure size 864x1080 with 1 Axes>"
      ]
     },
     "metadata": {
      "needs_background": "light"
     },
     "output_type": "display_data"
    }
   ],
   "source": [
    "draw_genre_plot(df)"
   ]
  },
  {
   "cell_type": "code",
   "execution_count": 15,
   "metadata": {
    "colab": {},
    "colab_type": "code",
    "id": "KZMkgsTaY6bP"
   },
   "outputs": [],
   "source": [
    "def clean_text(text):\n",
    "    text = re.sub(\"\\'\", \"\", text) \n",
    "    text = re.sub(\"[^a-zA-Z]\",\" \",text) \n",
    "    text = ' '.join(text.split()) \n",
    "    text = text.lower() \n",
    "    return text\n",
    "\n",
    "def remove_stopwords(text):\n",
    "    no_stopword_text = [w for w in text.split() if not w in stop_words]\n",
    "    return ' '.join(no_stopword_text)"
   ]
  },
  {
   "cell_type": "code",
   "execution_count": 16,
   "metadata": {
    "colab": {
     "base_uri": "https://localhost:8080/",
     "height": 877
    },
    "colab_type": "code",
    "id": "LNhIZfSmZl_7",
    "outputId": "21dc1e8f-bb5d-4681-b4d3-0d5b334cc01a"
   },
   "outputs": [],
   "source": [
    "def freq_words(x, terms = 30): \n",
    "    word_count = {}\n",
    "    for index,row in df.iterrows():\n",
    "        text = row[\"Summary\"]\n",
    "        for w in nltk.word_tokenize(text):\n",
    "            try:\n",
    "                word_count[w] += 1\n",
    "            except:\n",
    "                word_count[w] = 1\n",
    "                \n",
    "    fdist = nltk.FreqDist(word_count) \n",
    "    words_df = pd.DataFrame({'word':list(word_count.keys()), 'count':list(word_count.values())}) \n",
    "    d = words_df.nlargest(columns=\"count\", n = terms) \n",
    "    plt.figure(figsize=(12,15)) \n",
    "    ax = sns.barplot(data=d, x= \"count\", y = \"word\") \n",
    "    ax.set(ylabel = 'Word') \n",
    "    plt.show()"
   ]
  },
  {
   "cell_type": "code",
   "execution_count": 17,
   "metadata": {
    "colab": {},
    "colab_type": "code",
    "id": "7ibs2XTAZOJq"
   },
   "outputs": [],
   "source": [
    "df['Summary'] = df['Summary'].apply(lambda x: clean_text(x))"
   ]
  },
  {
   "cell_type": "markdown",
   "metadata": {},
   "source": [
    "The most frequent words out of all the words in the data:"
   ]
  },
  {
   "cell_type": "code",
   "execution_count": 18,
   "metadata": {},
   "outputs": [
    {
     "data": {
      "image/png": "[encoded data removed]",
      "text/plain": [
       "<Figure size 864x1080 with 1 Axes>"
      ]
     },
     "metadata": {
      "needs_background": "light"
     },
     "output_type": "display_data"
    }
   ],
   "source": [
    "freq_words(df['Summary'], 50)"
   ]
  },
  {
   "cell_type": "markdown",
   "metadata": {},
   "source": [
    "Thus, we remove all stopwords for relevant data."
   ]
  },
  {
   "cell_type": "code",
   "execution_count": 19,
   "metadata": {
    "colab": {},
    "colab_type": "code",
    "id": "dc1oqyxdZUmt"
   },
   "outputs": [],
   "source": [
    "df['Summary'] = df['Summary'].apply(lambda x: remove_stopwords(x))"
   ]
  },
  {
   "cell_type": "markdown",
   "metadata": {},
   "source": [
    "The most frequent words after removing stopwords is as follows:"
   ]
  },
  {
   "cell_type": "code",
   "execution_count": 20,
   "metadata": {},
   "outputs": [
    {
     "data": {
      "image/png": "[encoded data removed]",
      "text/plain": [
       "<Figure size 864x1080 with 1 Axes>"
      ]
     },
     "metadata": {
      "needs_background": "light"
     },
     "output_type": "display_data"
    }
   ],
   "source": [
    "freq_words(df['Summary'], 50)"
   ]
  },
  {
   "cell_type": "code",
   "execution_count": 21,
   "metadata": {
    "colab": {
     "base_uri": "https://localhost:8080/",
     "height": 363
    },
    "colab_type": "code",
    "id": "RGyK6vlEZckM",
    "outputId": "5a10a887-66f2-49b1-94b8-4812120c14ec"
   },
   "outputs": [
    {
     "data": {
      "text/html": [
       "<div>\n",
       "<style scoped>\n",
       "    .dataframe tbody tr th:only-of-type {\n",
       "        vertical-align: middle;\n",
       "    }\n",
       "\n",
       "    .dataframe tbody tr th {\n",
       "        vertical-align: top;\n",
       "    }\n",
       "\n",
       "    .dataframe thead th {\n",
       "        text-align: right;\n",
       "    }\n",
       "</style>\n",
       "<table border=\"1\" class=\"dataframe\">\n",
       "  <thead>\n",
       "    <tr style=\"text-align: right;\">\n",
       "      <th></th>\n",
       "      <th>Name</th>\n",
       "      <th>Genres</th>\n",
       "      <th>Summary</th>\n",
       "    </tr>\n",
       "  </thead>\n",
       "  <tbody>\n",
       "    <tr>\n",
       "      <th>0</th>\n",
       "      <td>The New York Times Daily Crossword Puzzles: Thursday, Volume 1</td>\n",
       "      <td>[Games, Nonfiction]</td>\n",
       "      <td>monday crosswords easetuesday crosswords breezewednesday crosswords harder stillthursday crosswords take real skillfriday crosswords come far saturday crosswords star millions people new york times crossword puzzles essential day first cup coffee morning first time ever premier puzzles available...</td>\n",
       "    </tr>\n",
       "    <tr>\n",
       "      <th>1</th>\n",
       "      <td>Creatures of the Night (Second Edition)</td>\n",
       "      <td>[Graphic Novels and Manga, Fiction]</td>\n",
       "      <td>two literary comics modern masters present pair magical disturbing stories strange creatures quite seem price mysterious feline engages nightly conflict unseen vicious foe daughter owls recounts eerie tale beautiful orphan girl found clutching owl pellet would wrong would face bizarre unforeseen...</td>\n",
       "    </tr>\n",
       "    <tr>\n",
       "      <th>2</th>\n",
       "      <td>Cornelia and the Audacious Escapades of the Somerset Sisters</td>\n",
       "      <td>[Children’s Middle Grade Books, Children’s Books]</td>\n",
       "      <td>eleven year old cornelia girl two world famous pianists bequest feel fabulous alternatively feels plain lonely surrounds dictionaries books isolate outdoors world glamorous neighbor named virginia flip moves next door servant patel mischievous french bulldog named mister kinyatta cornelia discov...</td>\n",
       "    </tr>\n",
       "    <tr>\n",
       "      <th>3</th>\n",
       "      <td>The Alchemist's Daughter</td>\n",
       "      <td>[Historical Fiction, Fiction]</td>\n",
       "      <td>english age reason woman cloistered since birth learns knowledge substitute experience raised father near isolation english countryside emilie selden trained brilliant natural philosopher alchemist spring father daughter embark upon daring alchemical experiment date attempting breathe life dead ...</td>\n",
       "    </tr>\n",
       "    <tr>\n",
       "      <th>4</th>\n",
       "      <td>Dangerous Boy</td>\n",
       "      <td>[Teen and Young Adult Mystery and Suspense, Teen and Young Adult]</td>\n",
       "      <td>modern day retelling strange case dr jekyll mr hyde chilling twist harper never worried falling love something skeptical even exists everything changes logan moves town harper shock two tumble intense romance everything never thought wanted meets logan twin brother caleb expelled last school tru...</td>\n",
       "    </tr>\n",
       "  </tbody>\n",
       "</table>\n",
       "</div>"
      ],
      "text/plain": [
       "                                                             Name  \\\n",
       "0  The New York Times Daily Crossword Puzzles: Thursday, Volume 1   \n",
       "1                         Creatures of the Night (Second Edition)   \n",
       "2    Cornelia and the Audacious Escapades of the Somerset Sisters   \n",
       "3                                        The Alchemist's Daughter   \n",
       "4                                                   Dangerous Boy   \n",
       "\n",
       "                                                              Genres  \\\n",
       "0                                                [Games, Nonfiction]   \n",
       "1                                [Graphic Novels and Manga, Fiction]   \n",
       "2                  [Children’s Middle Grade Books, Children’s Books]   \n",
       "3                                      [Historical Fiction, Fiction]   \n",
       "4  [Teen and Young Adult Mystery and Suspense, Teen and Young Adult]   \n",
       "\n",
       "                                                                                                                                                                                                                                                                                                       Summary  \n",
       "0  monday crosswords easetuesday crosswords breezewednesday crosswords harder stillthursday crosswords take real skillfriday crosswords come far saturday crosswords star millions people new york times crossword puzzles essential day first cup coffee morning first time ever premier puzzles available...  \n",
       "1  two literary comics modern masters present pair magical disturbing stories strange creatures quite seem price mysterious feline engages nightly conflict unseen vicious foe daughter owls recounts eerie tale beautiful orphan girl found clutching owl pellet would wrong would face bizarre unforeseen...  \n",
       "2  eleven year old cornelia girl two world famous pianists bequest feel fabulous alternatively feels plain lonely surrounds dictionaries books isolate outdoors world glamorous neighbor named virginia flip moves next door servant patel mischievous french bulldog named mister kinyatta cornelia discov...  \n",
       "3  english age reason woman cloistered since birth learns knowledge substitute experience raised father near isolation english countryside emilie selden trained brilliant natural philosopher alchemist spring father daughter embark upon daring alchemical experiment date attempting breathe life dead ...  \n",
       "4  modern day retelling strange case dr jekyll mr hyde chilling twist harper never worried falling love something skeptical even exists everything changes logan moves town harper shock two tumble intense romance everything never thought wanted meets logan twin brother caleb expelled last school tru...  "
      ]
     },
     "execution_count": 21,
     "metadata": {},
     "output_type": "execute_result"
    }
   ],
   "source": [
    "df.head()"
   ]
  },
  {
   "cell_type": "markdown",
   "metadata": {},
   "source": [
    "Storing the augmented data in a csv file."
   ]
  },
  {
   "cell_type": "code",
   "execution_count": 22,
   "metadata": {},
   "outputs": [],
   "source": [
    "df.to_csv(r'.\\augmented_data_50.csv', index = False)"
   ]
  },
  {
   "cell_type": "code",
   "execution_count": 23,
   "metadata": {
    "colab": {},
    "colab_type": "code",
    "id": "ai26BegWZrX8"
   },
   "outputs": [],
   "source": [
    "from sklearn.preprocessing import MultiLabelBinarizer\n",
    "from sklearn.pipeline import Pipeline\n",
    "from sklearn.feature_extraction.text import CountVectorizer, TfidfVectorizer, TfidfTransformer\n",
    "#from sklearn import preprocessing\n",
    "\n",
    "multilabel_binarizer = MultiLabelBinarizer()\n",
    "multilabel_binarizer.fit(df['Genres'])\n",
    "\n",
    "# transform target variable\n",
    "y = multilabel_binarizer.transform(df['Genres'])"
   ]
  },
  {
   "cell_type": "code",
   "execution_count": 24,
   "metadata": {
    "colab": {},
    "colab_type": "code",
    "id": "JZSdXkn5Z6tu"
   },
   "outputs": [],
   "source": [
    "xtrain, xval, ytrain, yval = train_test_split(df['Summary'], y, test_size=0.2, random_state=9)"
   ]
  },
  {
   "cell_type": "code",
   "execution_count": 25,
   "metadata": {
    "colab": {},
    "colab_type": "code",
    "id": "x5OGzK-raCDj"
   },
   "outputs": [],
   "source": [
    "from sklearn.linear_model import LogisticRegression\n",
    "\n",
    "# Binary Relevance\n",
    "from sklearn.multiclass import OneVsRestClassifier\n",
    "\n",
    "# Performance metric\n",
    "from sklearn.metrics import f1_score"
   ]
  },
  {
   "cell_type": "code",
   "execution_count": 26,
   "metadata": {
    "colab": {},
    "colab_type": "code",
    "id": "EUV7iKnaaErd"
   },
   "outputs": [],
   "source": [
    "import math\n",
    "lr = LogisticRegression()\n",
    "\n",
    "clf = Pipeline([('vect', CountVectorizer(ngram_range=(1,2), max_df=0.8, max_features=10000)),\n",
    "                ('tfidf', TfidfTransformer()),\n",
    "                ('ovr', OneVsRestClassifier(lr))\n",
    "               ])"
   ]
  },
  {
   "cell_type": "code",
   "execution_count": 27,
   "metadata": {
    "colab": {
     "base_uri": "https://localhost:8080/",
     "height": 185
    },
    "colab_type": "code",
    "id": "noUUOjzuaGud",
    "outputId": "f88ee379-9970-4772-ad16-fef7eb385b0b"
   },
   "outputs": [
    {
     "data": {
      "text/plain": [
       "Pipeline(memory=None,\n",
       "     steps=[('vect', CountVectorizer(analyzer='word', binary=False, decode_error='strict',\n",
       "        dtype=<class 'numpy.int64'>, encoding='utf-8', input='content',\n",
       "        lowercase=True, max_df=0.8, max_features=10000, min_df=1,\n",
       "        ngram_range=(1, 2), preprocessor=None, stop_words=None,\n",
       "        stri...=None, solver='liblinear', tol=0.0001,\n",
       "          verbose=0, warm_start=False),\n",
       "          n_jobs=1))])"
      ]
     },
     "execution_count": 27,
     "metadata": {},
     "output_type": "execute_result"
    }
   ],
   "source": [
    "clf.fit(xtrain, ytrain)"
   ]
  },
  {
   "cell_type": "code",
   "execution_count": 28,
   "metadata": {},
   "outputs": [],
   "source": [
    "pickle.dump([clf, multilabel_binarizer], open('multi_label_50.sav', 'wb'))"
   ]
  },
  {
   "cell_type": "code",
   "execution_count": 29,
   "metadata": {
    "colab": {},
    "colab_type": "code",
    "id": "EnxKGK1XaITD"
   },
   "outputs": [],
   "source": [
    "y_pred = clf.predict(xval)"
   ]
  },
  {
   "cell_type": "code",
   "execution_count": 30,
   "metadata": {
    "colab": {
     "base_uri": "https://localhost:8080/",
     "height": 34
    },
    "colab_type": "code",
    "id": "ICK9FColaKNl",
    "outputId": "91369a58-6bef-45c8-bf2b-fdc3cee1c25e"
   },
   "outputs": [
    {
     "data": {
      "text/plain": [
       "0.6990156741621683"
      ]
     },
     "execution_count": 30,
     "metadata": {},
     "output_type": "execute_result"
    }
   ],
   "source": [
    "f1_score(yval, y_pred, average=\"micro\")"
   ]
  },
  {
   "cell_type": "code",
   "execution_count": 31,
   "metadata": {
    "colab": {},
    "colab_type": "code",
    "id": "epi1n-S_tleY"
   },
   "outputs": [],
   "source": [
    "y_pred_prob = clf.predict_proba(xval)\n",
    "t = 0.2505\n",
    "y_pred_new = (y_pred_prob >= t).astype(int)"
   ]
  },
  {
   "cell_type": "code",
   "execution_count": 32,
   "metadata": {
    "colab": {
     "base_uri": "https://localhost:8080/",
     "height": 34
    },
    "colab_type": "code",
    "id": "T_ZLHp72tqIA",
    "outputId": "870b1e8a-197c-456a-e762-f5c3793c7bdc"
   },
   "outputs": [
    {
     "data": {
      "text/plain": [
       "0.7704106521652206"
      ]
     },
     "execution_count": 32,
     "metadata": {},
     "output_type": "execute_result"
    }
   ],
   "source": [
    "f1_score(yval, y_pred_new, average=\"micro\")"
   ]
  },
  {
   "cell_type": "code",
   "execution_count": 33,
   "metadata": {
    "colab": {},
    "colab_type": "code",
    "id": "kAtiuLtOajYg"
   },
   "outputs": [],
   "source": [
    "def infer_tags(q):\n",
    "    q = clean_text(q)\n",
    "    q = remove_stopwords(q)\n",
    "    q_pred_prob = clf.predict_proba([q])\n",
    "    t = 0.2505\n",
    "    q_pred_new = (q_pred_prob >= t).astype(int)\n",
    "\n",
    "    return multilabel_binarizer.inverse_transform(q_pred_new)"
   ]
  },
  {
   "cell_type": "code",
   "execution_count": 34,
   "metadata": {
    "colab": {
     "base_uri": "https://localhost:8080/",
     "height": 353
    },
    "colab_type": "code",
    "id": "HhTwzoZxaRwt",
    "outputId": "1d2fdca4-f22a-4ca4-bb3e-aa44c7e64e34"
   },
   "outputs": [
    {
     "name": "stdout",
     "output_type": "stream",
     "text": [
      "Book:  Living Time \n",
      "Predicted genre:  [('Biography and Memoir', 'Health and Fitness', 'Nonfiction')]\n",
      "Actual genre:  ['Philosophy', 'Health and Fitness', 'Nonfiction'] \n",
      "\n",
      "Book:  Star Trek: The Newspaper Strip Volume 1 \n",
      "Predicted genre:  [('Graphic Novels and Manga', 'Humor')]\n",
      "Actual genre:  ['Graphic Novels and Manga', 'Humor'] \n",
      "\n",
      "Book:  Mrs. Pollifax and the Hong Kong Buddha \n",
      "Predicted genre:  [('Children’s Books', 'Fiction', 'Mystery and Suspense')]\n",
      "Actual genre:  ['Suspense and Thriller', 'Mystery and Suspense', 'Fiction'] \n",
      "\n",
      "Book:  What Do We Do Now? \n",
      "Predicted genre:  [('Humor',)]\n",
      "Actual genre:  ['Humor'] \n",
      "\n",
      "Book:  The Big Girls \n",
      "Predicted genre:  [('Fiction', 'Literary Fiction')]\n",
      "Actual genre:  ['Literary Fiction', 'Fiction'] \n",
      "\n"
     ]
    }
   ],
   "source": [
    "for i in range(5): \n",
    "    k = xval.sample(1).index[0] \n",
    "    print(\"Book: \", df['Name'][k], \"\\nPredicted genre: \", infer_tags(xval[k])), print(\"Actual genre: \",df['Genres'][k], \"\\n\")"
   ]
  },
  {
   "cell_type": "code",
   "execution_count": 35,
   "metadata": {
    "colab": {},
    "colab_type": "code",
    "id": "WVq43Qm7an6B"
   },
   "outputs": [
    {
     "data": {
      "text/plain": [
       "[('Nonfiction', 'Personal Growth', 'Self-Improvement')]"
      ]
     },
     "execution_count": 35,
     "metadata": {},
     "output_type": "execute_result"
    }
   ],
   "source": [
    "#The Subtle Art of not giving a F*ck\n",
    "infer_tags(\"Conventional self-help advice which tells you to visualize success and think about the type of person you want to be only reinforces the idea that you are not that thing. Everyone wants you to believe that the secret to a good life is to have a nicer job or a better car or a prettier girlfriend. The key to a good life is not giving a fuck about more; it’s giving a fuck about less, giving a fuck about only what is true and immediate and important. We are no longer facing a material crisis. We have plenty of resources: TVs and clothes and goods that we don’t need. The problem we face is existential and spiritual. We have so much stuff and so many opportunities that we don’t know what to give a fuck about anymore. Because there’s an infinite amount of things we can now see or know, there are also an infinite number of ways we can discover that we don’t measure up, that we’re not good enough, that things aren’t as great as they could be. The desire for a more positive experience is itself a negative experience. And, paradoxically, the acceptance of one’s negative experience is itself a positive experience. Pursuing something only reinforces that you lack it in the first place. Accepting your experience of life as being great and wonderful is the single greatest thing you can do for your happiness.\")"
   ]
  },
  {
   "cell_type": "code",
   "execution_count": 36,
   "metadata": {},
   "outputs": [
    {
     "data": {
      "text/plain": [
       "[('Fiction', 'Historical Romance', 'Literary Fiction', 'Romance')]"
      ]
     },
     "execution_count": 36,
     "metadata": {},
     "output_type": "execute_result"
    }
   ],
   "source": [
    "#Pride and Prejudice\n",
    "infer_tags(\"Pride and Prejudice is set in rural England in the early 19th century, and it follows the Bennet family, which includes five very different sisters. Mrs. Bennet is anxious to see all her daughters married, especially as the modest family estate is to be inherited by William Collins when Mr. Bennet dies. At a ball, the wealthy and newly arrived Charles Bingley takes an immediate interest in the eldest Bennet daughter, the beautiful and shy Jane. The encounter between his friend Darcy and Elizabeth is less cordial. Although Austen shows them intrigued by each other, she reverses the convention of first impressions: pride of rank and fortune and prejudice against the social inferiority of Elizabeth’s family hold Darcy aloof, while Elizabeth is equally fired both by the pride of self-respect and by prejudice against Darcy’s snobbery. The pompous Collins subsequently arrives, hoping to marry one of the Bennet sisters. Elizabeth, however, refuses his offer of marriage, and he instead becomes engaged to her friend Charlotte Lucas. During this time, Elizabeth encounters the charming George Wickham, a military officer. There is a mutual attraction between the two, and he informs her that Darcy has denied him his inheritance. After Bingley abruptly departs for London, Elizabeth’s dislike of Darcy increases as she becomes convinced that he is discouraging Bingley’s relationship with Jane. Darcy, however, has grown increasingly fond of Elizabeth, admiring her intelligence and vitality. While visiting the now-married Charlotte, Elizabeth sees Darcy, who professes his love for her and proposes. A surprised Elizabeth refuses his offer, and, when Darcy demands an explanation, she accuses him of breaking up Jane and Bingley. Darcy subsequently writes Elizabeth a letter in which he explains that he separated the couple largely because he did not believe Jane returned Bingley’s affection. He also discloses that Wickham, after squandering his inheritance, tried to marry Darcy’s then 15-year-old sister in an attempt to gain possession of her fortune. With these revelations, Elizabeth begins to see Darcy in a new light. Shortly thereafter the youngest Bennet sister, Lydia, elopes with Wickham. The news is met with great alarm by Elizabeth, since the scandalous affair—which is unlikely to end in marriage—could ruin the reputation of the other Bennet sisters. When she tells Darcy, he persuades Wickham to marry Lydia, offering him money. Despite Darcy’s attempt to keep his intervention a secret, Elizabeth learns of his actions. At the encouragement of Darcy, Bingley subsequently returns, and he and Jane become engaged. Finally, Darcy proposes again to Elizabeth, who this time accepts.\")"
   ]
  },
  {
   "cell_type": "code",
   "execution_count": 37,
   "metadata": {},
   "outputs": [
    {
     "data": {
      "text/plain": [
       "[('Children’s Books', 'Children’s Middle Grade Books')]"
      ]
     },
     "execution_count": 37,
     "metadata": {},
     "output_type": "execute_result"
    }
   ],
   "source": [
    "#Harry Potter\n",
    "infer_tags(\"Adaptation of the first of J.K. Rowling's popular children's novels about Harry Potter, a boy who learns on his eleventh birthday that he is the orphaned son of two powerful wizards and possesses unique magical powers of his own. He is summoned from his life as an unwanted child to become a student at Hogwarts, an English boarding school for wizards. There, he meets several friends who become his closest allies and help him discover the truth about his parents' mysterious deaths.\")"
   ]
  },
  {
   "cell_type": "code",
   "execution_count": null,
   "metadata": {},
   "outputs": [],
   "source": []
  }
 ],
 "metadata": {
  "colab": {
   "collapsed_sections": [],
   "name": "Untitled0.ipynb",
   "provenance": []
  },
  "kernelspec": {
   "display_name": "Python 3",
   "language": "python",
   "name": "python3"
  },
  "language_info": {
   "codemirror_mode": {
    "name": "ipython",
    "version": 3
   },
   "file_extension": ".py",
   "mimetype": "text/x-python",
   "name": "python",
   "nbconvert_exporter": "python",
   "pygments_lexer": "ipython3",
   "version": "3.7.0"
  }
 },
 "nbformat": 4,
 "nbformat_minor": 1
}
